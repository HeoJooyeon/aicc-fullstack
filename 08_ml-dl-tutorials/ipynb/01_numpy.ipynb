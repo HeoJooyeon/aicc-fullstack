{
 "cells": [
  {
   "cell_type": "code",
   "execution_count": 1,
   "metadata": {
    "executionInfo": {
     "elapsed": 12,
     "status": "ok",
     "timestamp": 1747803303379,
     "user": {
      "displayName": "한승은",
      "userId": "04427230560808964172"
     },
     "user_tz": -540
    },
    "id": "lpqNhXxFHOP-"
   },
   "outputs": [],
   "source": [
    "import numpy as np"
   ]
  },
  {
   "cell_type": "code",
   "execution_count": 2,
   "metadata": {
    "executionInfo": {
     "elapsed": 4,
     "status": "ok",
     "timestamp": 1747803360519,
     "user": {
      "displayName": "한승은",
      "userId": "04427230560808964172"
     },
     "user_tz": -540
    },
    "id": "RDZ6onu3Mc24"
   },
   "outputs": [],
   "source": [
    "L = [1, 2, 3]"
   ]
  },
  {
   "cell_type": "code",
   "execution_count": 3,
   "metadata": {
    "executionInfo": {
     "elapsed": 3,
     "status": "ok",
     "timestamp": 1747803424235,
     "user": {
      "displayName": "한승은",
      "userId": "04427230560808964172"
     },
     "user_tz": -540
    },
    "id": "AJEuOHbeMswu"
   },
   "outputs": [],
   "source": [
    "A = np.array([1, 2, 3])"
   ]
  },
  {
   "cell_type": "code",
   "execution_count": 5,
   "metadata": {
    "colab": {
     "base_uri": "https://localhost:8080/"
    },
    "executionInfo": {
     "elapsed": 6,
     "status": "ok",
     "timestamp": 1747804911276,
     "user": {
      "displayName": "한승은",
      "userId": "04427230560808964172"
     },
     "user_tz": -540
    },
    "id": "Gb3QHtEZM8Um",
    "outputId": "d64a2bb6-91dc-4f2b-b3e8-74fe7f78d074"
   },
   "outputs": [
    {
     "name": "stdout",
     "output_type": "stream",
     "text": [
      "1\n",
      "2\n",
      "3\n"
     ]
    }
   ],
   "source": [
    "for e in L:\n",
    "  print(e)"
   ]
  },
  {
   "cell_type": "code",
   "execution_count": 7,
   "metadata": {
    "executionInfo": {
     "elapsed": 6,
     "status": "ok",
     "timestamp": 1747804998552,
     "user": {
      "displayName": "한승은",
      "userId": "04427230560808964172"
     },
     "user_tz": -540
    },
    "id": "6WRDv1WeNK-_"
   },
   "outputs": [],
   "source": [
    "L.append(4)"
   ]
  },
  {
   "cell_type": "code",
   "execution_count": 8,
   "metadata": {
    "colab": {
     "base_uri": "https://localhost:8080/"
    },
    "executionInfo": {
     "elapsed": 7,
     "status": "ok",
     "timestamp": 1747805018869,
     "user": {
      "displayName": "한승은",
      "userId": "04427230560808964172"
     },
     "user_tz": -540
    },
    "id": "pIPItgSLS6-W",
    "outputId": "dbe24877-4cff-4239-e128-30d32b6c74df"
   },
   "outputs": [
    {
     "data": {
      "text/plain": [
       "[1, 2, 3, 4, 5]"
      ]
     },
     "execution_count": 8,
     "metadata": {},
     "output_type": "execute_result"
    }
   ],
   "source": [
    "L+[5]"
   ]
  },
  {
   "cell_type": "code",
   "execution_count": 9,
   "metadata": {
    "colab": {
     "base_uri": "https://localhost:8080/"
    },
    "executionInfo": {
     "elapsed": 45,
     "status": "ok",
     "timestamp": 1747805214330,
     "user": {
      "displayName": "한승은",
      "userId": "04427230560808964172"
     },
     "user_tz": -540
    },
    "id": "R5CyyxUITBL2",
    "outputId": "14d005bd-84e5-4617-ea86-f7e1b9128ec0"
   },
   "outputs": [
    {
     "data": {
      "text/plain": [
       "array([5, 6, 7])"
      ]
     },
     "execution_count": 9,
     "metadata": {},
     "output_type": "execute_result"
    }
   ],
   "source": [
    "A + np.array([4])"
   ]
  },
  {
   "cell_type": "code",
   "execution_count": 10,
   "metadata": {
    "colab": {
     "base_uri": "https://localhost:8080/"
    },
    "executionInfo": {
     "elapsed": 46,
     "status": "ok",
     "timestamp": 1747805277119,
     "user": {
      "displayName": "한승은",
      "userId": "04427230560808964172"
     },
     "user_tz": -540
    },
    "id": "AhZjzhLATxV9",
    "outputId": "781f4841-30ce-40c0-eb97-087bdf384b8b"
   },
   "outputs": [
    {
     "data": {
      "text/plain": [
       "array([5, 7, 9])"
      ]
     },
     "execution_count": 10,
     "metadata": {},
     "output_type": "execute_result"
    }
   ],
   "source": [
    "A + np.array([4,5,6])"
   ]
  },
  {
   "cell_type": "code",
   "execution_count": 11,
   "metadata": {
    "colab": {
     "base_uri": "https://localhost:8080/"
    },
    "executionInfo": {
     "elapsed": 8,
     "status": "ok",
     "timestamp": 1747805922197,
     "user": {
      "displayName": "한승은",
      "userId": "04427230560808964172"
     },
     "user_tz": -540
    },
    "id": "2cy9CqNxUArF",
    "outputId": "0986fb94-6e37-4f1d-d0cb-c8665be2fbd2"
   },
   "outputs": [
    {
     "data": {
      "text/plain": [
       "6"
      ]
     },
     "execution_count": 11,
     "metadata": {},
     "output_type": "execute_result"
    }
   ],
   "source": [
    "2+4"
   ]
  },
  {
   "cell_type": "code",
   "execution_count": 12,
   "metadata": {
    "colab": {
     "base_uri": "https://localhost:8080/"
    },
    "executionInfo": {
     "elapsed": 7,
     "status": "ok",
     "timestamp": 1747805932867,
     "user": {
      "displayName": "한승은",
      "userId": "04427230560808964172"
     },
     "user_tz": -540
    },
    "id": "zha5ck2ZWeK_",
    "outputId": "72e0d7fe-09f6-4978-ded3-33a192103730"
   },
   "outputs": [
    {
     "data": {
      "text/plain": [
       "array([3, 4, 5])"
      ]
     },
     "execution_count": 12,
     "metadata": {},
     "output_type": "execute_result"
    }
   ],
   "source": [
    "2 +A"
   ]
  },
  {
   "cell_type": "code",
   "execution_count": 13,
   "metadata": {
    "colab": {
     "base_uri": "https://localhost:8080/"
    },
    "executionInfo": {
     "elapsed": 6,
     "status": "ok",
     "timestamp": 1747806003394,
     "user": {
      "displayName": "한승은",
      "userId": "04427230560808964172"
     },
     "user_tz": -540
    },
    "id": "qhxgPokyWgxt",
    "outputId": "9c4e00e1-e043-499c-83c2-c52fdb5af40b"
   },
   "outputs": [
    {
     "data": {
      "text/plain": [
       "array([2, 4, 6])"
      ]
     },
     "execution_count": 13,
     "metadata": {},
     "output_type": "execute_result"
    }
   ],
   "source": [
    "2*A"
   ]
  },
  {
   "cell_type": "code",
   "execution_count": 14,
   "metadata": {
    "colab": {
     "base_uri": "https://localhost:8080/"
    },
    "executionInfo": {
     "elapsed": 6,
     "status": "ok",
     "timestamp": 1747806011537,
     "user": {
      "displayName": "한승은",
      "userId": "04427230560808964172"
     },
     "user_tz": -540
    },
    "id": "2x42w8_eWx_1",
    "outputId": "af0d43fb-c028-4ff0-92c3-b2fd09f6c3bd"
   },
   "outputs": [
    {
     "data": {
      "text/plain": [
       "[1, 2, 3, 4, 1, 2, 3, 4]"
      ]
     },
     "execution_count": 14,
     "metadata": {},
     "output_type": "execute_result"
    }
   ],
   "source": [
    "2*L"
   ]
  },
  {
   "cell_type": "code",
   "execution_count": 15,
   "metadata": {
    "colab": {
     "base_uri": "https://localhost:8080/"
    },
    "executionInfo": {
     "elapsed": 9,
     "status": "ok",
     "timestamp": 1747806024517,
     "user": {
      "displayName": "한승은",
      "userId": "04427230560808964172"
     },
     "user_tz": -540
    },
    "id": "5WU4cdHzWz--",
    "outputId": "5691736b-7a3d-4985-823d-f46dd3a24781"
   },
   "outputs": [
    {
     "data": {
      "text/plain": [
       "[1, 2, 3, 4, 1, 2, 3, 4]"
      ]
     },
     "execution_count": 15,
     "metadata": {},
     "output_type": "execute_result"
    }
   ],
   "source": [
    "L+L"
   ]
  },
  {
   "cell_type": "code",
   "execution_count": 17,
   "metadata": {
    "executionInfo": {
     "elapsed": 7,
     "status": "ok",
     "timestamp": 1747806438025,
     "user": {
      "displayName": "한승은",
      "userId": "04427230560808964172"
     },
     "user_tz": -540
    },
    "id": "-_nGJ3HRW3Jt"
   },
   "outputs": [],
   "source": [
    "L2 = []"
   ]
  },
  {
   "cell_type": "code",
   "execution_count": 19,
   "metadata": {
    "executionInfo": {
     "elapsed": 40,
     "status": "ok",
     "timestamp": 1747806489559,
     "user": {
      "displayName": "한승은",
      "userId": "04427230560808964172"
     },
     "user_tz": -540
    },
    "id": "CXDerMBHYZ4d"
   },
   "outputs": [],
   "source": [
    "for e in L:\n",
    "  L2.append(e+3)"
   ]
  },
  {
   "cell_type": "code",
   "execution_count": 20,
   "metadata": {
    "colab": {
     "base_uri": "https://localhost:8080/"
    },
    "executionInfo": {
     "elapsed": 7,
     "status": "ok",
     "timestamp": 1747806516033,
     "user": {
      "displayName": "한승은",
      "userId": "04427230560808964172"
     },
     "user_tz": -540
    },
    "id": "ueRL1zksYgxV",
    "outputId": "a1768bc2-0f94-456b-9128-f0287b5e3bb4"
   },
   "outputs": [
    {
     "data": {
      "text/plain": [
       "[4, 5, 6, 7]"
      ]
     },
     "execution_count": 20,
     "metadata": {},
     "output_type": "execute_result"
    }
   ],
   "source": [
    "L2"
   ]
  },
  {
   "cell_type": "code",
   "execution_count": 21,
   "metadata": {
    "colab": {
     "base_uri": "https://localhost:8080/"
    },
    "executionInfo": {
     "elapsed": 141,
     "status": "ok",
     "timestamp": 1747806521634,
     "user": {
      "displayName": "한승은",
      "userId": "04427230560808964172"
     },
     "user_tz": -540
    },
    "id": "Od81bTuoYvJt",
    "outputId": "c40de08d-902b-46f3-c81a-52248b141a52"
   },
   "outputs": [
    {
     "data": {
      "text/plain": [
       "[1, 2, 3, 4]"
      ]
     },
     "execution_count": 21,
     "metadata": {},
     "output_type": "execute_result"
    }
   ],
   "source": [
    "L"
   ]
  },
  {
   "cell_type": "code",
   "execution_count": 24,
   "metadata": {
    "executionInfo": {
     "elapsed": 3,
     "status": "ok",
     "timestamp": 1747806821811,
     "user": {
      "displayName": "한승은",
      "userId": "04427230560808964172"
     },
     "user_tz": -540
    },
    "id": "CISk9IzhYwfF"
   },
   "outputs": [],
   "source": [
    "L3 = [i+3 for i in L]"
   ]
  },
  {
   "cell_type": "code",
   "execution_count": 25,
   "metadata": {
    "colab": {
     "base_uri": "https://localhost:8080/"
    },
    "executionInfo": {
     "elapsed": 7,
     "status": "ok",
     "timestamp": 1747806826304,
     "user": {
      "displayName": "한승은",
      "userId": "04427230560808964172"
     },
     "user_tz": -540
    },
    "id": "9sAxUfkkZ039",
    "outputId": "98a5502a-75d7-4584-9d68-8d84311f6a5f"
   },
   "outputs": [
    {
     "data": {
      "text/plain": [
       "[4, 5, 6, 7]"
      ]
     },
     "execution_count": 25,
     "metadata": {},
     "output_type": "execute_result"
    }
   ],
   "source": [
    "L3"
   ]
  },
  {
   "cell_type": "code",
   "execution_count": 26,
   "metadata": {
    "executionInfo": {
     "elapsed": 48,
     "status": "ok",
     "timestamp": 1747807085122,
     "user": {
      "displayName": "한승은",
      "userId": "04427230560808964172"
     },
     "user_tz": -540
    },
    "id": "9xEXuaghZ65t"
   },
   "outputs": [],
   "source": [
    "L4 = [x**2 for x in L]"
   ]
  },
  {
   "cell_type": "code",
   "execution_count": 27,
   "metadata": {
    "colab": {
     "base_uri": "https://localhost:8080/"
    },
    "executionInfo": {
     "elapsed": 32,
     "status": "ok",
     "timestamp": 1747807090528,
     "user": {
      "displayName": "한승은",
      "userId": "04427230560808964172"
     },
     "user_tz": -540
    },
    "id": "EgcobjIva6FF",
    "outputId": "874c1169-a101-497d-b397-a6bd8cef0444"
   },
   "outputs": [
    {
     "data": {
      "text/plain": [
       "[1, 4, 9, 16]"
      ]
     },
     "execution_count": 27,
     "metadata": {},
     "output_type": "execute_result"
    }
   ],
   "source": [
    "L4"
   ]
  },
  {
   "cell_type": "code",
   "execution_count": 28,
   "metadata": {
    "executionInfo": {
     "elapsed": 2,
     "status": "ok",
     "timestamp": 1747807103422,
     "user": {
      "displayName": "한승은",
      "userId": "04427230560808964172"
     },
     "user_tz": -540
    },
    "id": "uLjZZYGta7Zt"
   },
   "outputs": [],
   "source": [
    "# [1, 4, 9, 16] 으로 출력되도록 해보세요.\n",
    "L4 = []\n",
    "for i in L:\n",
    "  L4.append(i**2)"
   ]
  },
  {
   "cell_type": "code",
   "execution_count": 29,
   "metadata": {
    "colab": {
     "base_uri": "https://localhost:8080/"
    },
    "executionInfo": {
     "elapsed": 6,
     "status": "ok",
     "timestamp": 1747807106846,
     "user": {
      "displayName": "한승은",
      "userId": "04427230560808964172"
     },
     "user_tz": -540
    },
    "id": "jydFJlnUa-jt",
    "outputId": "56fdee30-600b-4a36-8426-b86ab947dacc"
   },
   "outputs": [
    {
     "data": {
      "text/plain": [
       "[1, 4, 9, 16]"
      ]
     },
     "execution_count": 29,
     "metadata": {},
     "output_type": "execute_result"
    }
   ],
   "source": [
    "L4"
   ]
  },
  {
   "cell_type": "code",
   "execution_count": 30,
   "metadata": {
    "colab": {
     "base_uri": "https://localhost:8080/"
    },
    "executionInfo": {
     "elapsed": 49,
     "status": "ok",
     "timestamp": 1747807116890,
     "user": {
      "displayName": "한승은",
      "userId": "04427230560808964172"
     },
     "user_tz": -540
    },
    "id": "XS-WRWLga_ZF",
    "outputId": "df123837-2eb0-439e-fcc3-3591d9f45425"
   },
   "outputs": [
    {
     "data": {
      "text/plain": [
       "array([1, 4, 9])"
      ]
     },
     "execution_count": 30,
     "metadata": {},
     "output_type": "execute_result"
    }
   ],
   "source": [
    "A**2"
   ]
  },
  {
   "cell_type": "code",
   "execution_count": 31,
   "metadata": {
    "colab": {
     "base_uri": "https://localhost:8080/"
    },
    "executionInfo": {
     "elapsed": 17,
     "status": "ok",
     "timestamp": 1747807126284,
     "user": {
      "displayName": "한승은",
      "userId": "04427230560808964172"
     },
     "user_tz": -540
    },
    "id": "MHsMaQfbbB1d",
    "outputId": "02b596e1-3475-48bb-d1e2-cab36f6cc727"
   },
   "outputs": [
    {
     "data": {
      "text/plain": [
       "array([1, 2, 3])"
      ]
     },
     "execution_count": 31,
     "metadata": {},
     "output_type": "execute_result"
    }
   ],
   "source": [
    "A"
   ]
  },
  {
   "cell_type": "code",
   "execution_count": 32,
   "metadata": {
    "colab": {
     "base_uri": "https://localhost:8080/"
    },
    "executionInfo": {
     "elapsed": 16,
     "status": "ok",
     "timestamp": 1747807162504,
     "user": {
      "displayName": "한승은",
      "userId": "04427230560808964172"
     },
     "user_tz": -540
    },
    "id": "51cz8A4ZbEIt",
    "outputId": "30eebd9d-4562-48ac-f309-395beb97a2b6"
   },
   "outputs": [
    {
     "data": {
      "text/plain": [
       "array([1.        , 1.41421356, 1.73205081])"
      ]
     },
     "execution_count": 32,
     "metadata": {},
     "output_type": "execute_result"
    }
   ],
   "source": [
    "np.sqrt(A) # 루트 씌우기(제곱근 구하기)"
   ]
  },
  {
   "cell_type": "code",
   "execution_count": 33,
   "metadata": {
    "colab": {
     "base_uri": "https://localhost:8080/"
    },
    "executionInfo": {
     "elapsed": 7,
     "status": "ok",
     "timestamp": 1747807237926,
     "user": {
      "displayName": "한승은",
      "userId": "04427230560808964172"
     },
     "user_tz": -540
    },
    "id": "mYZjYFW3bM-o",
    "outputId": "61b8d4e3-78a5-4d17-9473-e5bb8349a3cc"
   },
   "outputs": [
    {
     "data": {
      "text/plain": [
       "array([0.        , 0.69314718, 1.09861229])"
      ]
     },
     "execution_count": 33,
     "metadata": {},
     "output_type": "execute_result"
    }
   ],
   "source": [
    "np.log(A) # 로그 함수"
   ]
  },
  {
   "cell_type": "code",
   "execution_count": 34,
   "metadata": {
    "colab": {
     "base_uri": "https://localhost:8080/"
    },
    "executionInfo": {
     "elapsed": 45,
     "status": "ok",
     "timestamp": 1747808553047,
     "user": {
      "displayName": "한승은",
      "userId": "04427230560808964172"
     },
     "user_tz": -540
    },
    "id": "5FLLS5lNbfZV",
    "outputId": "ff60f794-c943-4caf-8054-c38161f89feb"
   },
   "outputs": [
    {
     "data": {
      "text/plain": [
       "array([ 2.71828183,  7.3890561 , 20.08553692])"
      ]
     },
     "execution_count": 34,
     "metadata": {},
     "output_type": "execute_result"
    }
   ],
   "source": [
    "np.exp(A)"
   ]
  },
  {
   "cell_type": "code",
   "execution_count": 35,
   "metadata": {
    "colab": {
     "base_uri": "https://localhost:8080/"
    },
    "executionInfo": {
     "elapsed": 6,
     "status": "ok",
     "timestamp": 1747808559017,
     "user": {
      "displayName": "한승은",
      "userId": "04427230560808964172"
     },
     "user_tz": -540
    },
    "id": "a_J52Phuggdd",
    "outputId": "71754180-1ed1-4e51-e2e2-fe46e6f342ab"
   },
   "outputs": [
    {
     "data": {
      "text/plain": [
       "array([0.76159416, 0.96402758, 0.99505475])"
      ]
     },
     "execution_count": 35,
     "metadata": {},
     "output_type": "execute_result"
    }
   ],
   "source": [
    "np.tanh(A)"
   ]
  },
  {
   "cell_type": "code",
   "execution_count": 36,
   "metadata": {
    "executionInfo": {
     "elapsed": 7,
     "status": "ok",
     "timestamp": 1747808573825,
     "user": {
      "displayName": "한승은",
      "userId": "04427230560808964172"
     },
     "user_tz": -540
    },
    "id": "hudLrlFMgh7V"
   },
   "outputs": [],
   "source": [
    "L = [[1, 2], [3, 4]]"
   ]
  },
  {
   "cell_type": "code",
   "execution_count": 37,
   "metadata": {
    "colab": {
     "base_uri": "https://localhost:8080/"
    },
    "executionInfo": {
     "elapsed": 7,
     "status": "ok",
     "timestamp": 1747808579803,
     "user": {
      "displayName": "한승은",
      "userId": "04427230560808964172"
     },
     "user_tz": -540
    },
    "id": "3saaJ50Jglit",
    "outputId": "695a87a9-af26-4478-9161-8f1abd41d368"
   },
   "outputs": [
    {
     "data": {
      "text/plain": [
       "[[1, 2], [3, 4]]"
      ]
     },
     "execution_count": 37,
     "metadata": {},
     "output_type": "execute_result"
    }
   ],
   "source": [
    "L"
   ]
  },
  {
   "cell_type": "code",
   "execution_count": 38,
   "metadata": {
    "colab": {
     "base_uri": "https://localhost:8080/"
    },
    "executionInfo": {
     "elapsed": 7,
     "status": "ok",
     "timestamp": 1747808598492,
     "user": {
      "displayName": "한승은",
      "userId": "04427230560808964172"
     },
     "user_tz": -540
    },
    "id": "SEBRoU_UgnAF",
    "outputId": "30d6a76d-3c05-45b6-9c82-65ae52e3326e"
   },
   "outputs": [
    {
     "data": {
      "text/plain": [
       "[1, 2]"
      ]
     },
     "execution_count": 38,
     "metadata": {},
     "output_type": "execute_result"
    }
   ],
   "source": [
    "L[0]"
   ]
  },
  {
   "cell_type": "code",
   "execution_count": 39,
   "metadata": {
    "colab": {
     "base_uri": "https://localhost:8080/"
    },
    "executionInfo": {
     "elapsed": 39,
     "status": "ok",
     "timestamp": 1747808689160,
     "user": {
      "displayName": "한승은",
      "userId": "04427230560808964172"
     },
     "user_tz": -540
    },
    "id": "PrOK7W_SgrkF",
    "outputId": "8d23f806-100d-4140-ce4c-9ed5cc72c53d"
   },
   "outputs": [
    {
     "data": {
      "text/plain": [
       "2"
      ]
     },
     "execution_count": 39,
     "metadata": {},
     "output_type": "execute_result"
    }
   ],
   "source": [
    "L[0][1]"
   ]
  },
  {
   "cell_type": "code",
   "execution_count": 40,
   "metadata": {
    "executionInfo": {
     "elapsed": 8,
     "status": "ok",
     "timestamp": 1747808694397,
     "user": {
      "displayName": "한승은",
      "userId": "04427230560808964172"
     },
     "user_tz": -540
    },
    "id": "q-1iNeCahBsF"
   },
   "outputs": [],
   "source": [
    "A = np.array([[1,2], [3,4]])"
   ]
  },
  {
   "cell_type": "code",
   "execution_count": 41,
   "metadata": {
    "colab": {
     "base_uri": "https://localhost:8080/"
    },
    "executionInfo": {
     "elapsed": 13,
     "status": "ok",
     "timestamp": 1747808698838,
     "user": {
      "displayName": "한승은",
      "userId": "04427230560808964172"
     },
     "user_tz": -540
    },
    "id": "Q8cOlhdvhC-l",
    "outputId": "408192f5-0bfb-48cd-a030-657a5e651c0c"
   },
   "outputs": [
    {
     "data": {
      "text/plain": [
       "np.int64(2)"
      ]
     },
     "execution_count": 41,
     "metadata": {},
     "output_type": "execute_result"
    }
   ],
   "source": [
    "A[0][1]"
   ]
  },
  {
   "cell_type": "code",
   "execution_count": 42,
   "metadata": {
    "colab": {
     "base_uri": "https://localhost:8080/"
    },
    "executionInfo": {
     "elapsed": 46,
     "status": "ok",
     "timestamp": 1747808858748,
     "user": {
      "displayName": "한승은",
      "userId": "04427230560808964172"
     },
     "user_tz": -540
    },
    "id": "hKG-H_u6hED9",
    "outputId": "c7645288-4cf5-43b3-dd32-09068b518c86"
   },
   "outputs": [
    {
     "data": {
      "text/plain": [
       "np.int64(2)"
      ]
     },
     "execution_count": 42,
     "metadata": {},
     "output_type": "execute_result"
    }
   ],
   "source": [
    "A[0,1]"
   ]
  },
  {
   "cell_type": "code",
   "execution_count": 43,
   "metadata": {
    "colab": {
     "base_uri": "https://localhost:8080/"
    },
    "executionInfo": {
     "elapsed": 7,
     "status": "ok",
     "timestamp": 1747808864852,
     "user": {
      "displayName": "한승은",
      "userId": "04427230560808964172"
     },
     "user_tz": -540
    },
    "id": "fNVFDE-5hrF9",
    "outputId": "17463f4f-0a86-4016-e86a-7d09d4b8c4af"
   },
   "outputs": [
    {
     "data": {
      "text/plain": [
       "array([1, 3])"
      ]
     },
     "execution_count": 43,
     "metadata": {},
     "output_type": "execute_result"
    }
   ],
   "source": [
    "A[:,0]"
   ]
  },
  {
   "cell_type": "code",
   "execution_count": 44,
   "metadata": {
    "colab": {
     "base_uri": "https://localhost:8080/"
    },
    "executionInfo": {
     "elapsed": 45,
     "status": "ok",
     "timestamp": 1747809095326,
     "user": {
      "displayName": "한승은",
      "userId": "04427230560808964172"
     },
     "user_tz": -540
    },
    "id": "oJQsCYnVhsl9",
    "outputId": "48e04ba3-b603-42fd-e15b-850c95c06ed9"
   },
   "outputs": [
    {
     "data": {
      "text/plain": [
       "array([[1, 3],\n",
       "       [2, 4]])"
      ]
     },
     "execution_count": 44,
     "metadata": {},
     "output_type": "execute_result"
    }
   ],
   "source": [
    "A.T #TRANSPOSE 전치하다 - 행과 열을 서로 뒤바꾸는 것"
   ]
  },
  {
   "cell_type": "code",
   "execution_count": null,
   "metadata": {
    "id": "NZwiU9TCik2d"
   },
   "outputs": [],
   "source": []
  }
 ],
 "metadata": {
  "colab": {
   "authorship_tag": "ABX9TyNukliDYOAJN+Ek+2ZXwETb",
   "provenance": []
  },
  "kernelspec": {
   "display_name": "Python 3",
   "name": "python3"
  },
  "language_info": {
   "name": "python",
   "version": "3.13.2"
  }
 },
 "nbformat": 4,
 "nbformat_minor": 0
}
