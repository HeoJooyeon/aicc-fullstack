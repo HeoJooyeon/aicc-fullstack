{
 "cells": [
  {
   "cell_type": "code",
   "execution_count": 1,
   "id": "35ee0055-10d4-4c5a-9717-e32e9f94137f",
   "metadata": {},
   "outputs": [],
   "source": [
    "import pandas as pd"
   ]
  },
  {
   "cell_type": "code",
   "execution_count": 2,
   "id": "8ce6b037-1d3d-4ed9-97e5-ab12ff7da741",
   "metadata": {},
   "outputs": [],
   "source": [
    "students = ['Andrew','Brie','Kanika']"
   ]
  },
  {
   "cell_type": "code",
   "execution_count": 3,
   "id": "39369a1c-bb4c-4d62-90e9-7217ad023d6e",
   "metadata": {},
   "outputs": [
    {
     "data": {
      "text/plain": [
       "list"
      ]
     },
     "execution_count": 3,
     "metadata": {},
     "output_type": "execute_result"
    }
   ],
   "source": [
    "type(students)"
   ]
  },
  {
   "cell_type": "code",
   "execution_count": 8,
   "id": "84a311b5-887a-43c1-b006-740fdedb34d3",
   "metadata": {},
   "outputs": [
    {
     "data": {
      "text/plain": [
       "0    Andrew\n",
       "1      Brie\n",
       "2    Kanika\n",
       "dtype: object"
      ]
     },
     "execution_count": 8,
     "metadata": {},
     "output_type": "execute_result"
    }
   ],
   "source": [
    "pd.Series(data = students)"
   ]
  },
  {
   "cell_type": "code",
   "execution_count": 5,
   "id": "26386394-dbe3-49e7-8153-6aed86992008",
   "metadata": {},
   "outputs": [
    {
     "data": {
      "text/plain": [
       "Alice      Andrew\n",
       "Bob          Brie\n",
       "Charlie    Kanika\n",
       "dtype: object"
      ]
     },
     "execution_count": 5,
     "metadata": {},
     "output_type": "execute_result"
    }
   ],
   "source": [
    "pd.Series(students, index=[\"Alice\",\"Bob\",\"Charlie\"])"
   ]
  },
  {
   "cell_type": "code",
   "execution_count": 7,
   "id": "05b069a0-f17c-4cb7-8091-1294bbe01107",
   "metadata": {},
   "outputs": [],
   "source": [
    "mixed = [True, 'say', {'my_mood': 100}]"
   ]
  },
  {
   "cell_type": "code",
   "execution_count": 9,
   "id": "f5339443-22cd-41cb-9053-f55b82248cf2",
   "metadata": {},
   "outputs": [
    {
     "data": {
      "text/plain": [
       "0                True\n",
       "1                 say\n",
       "2    {'my_mood': 100}\n",
       "dtype: object"
      ]
     },
     "execution_count": 9,
     "metadata": {},
     "output_type": "execute_result"
    }
   ],
   "source": [
    "pd.Series(mixed)"
   ]
  },
  {
   "cell_type": "code",
   "execution_count": 11,
   "id": "4eebf05c-43f9-4f24-bdc5-47605797370d",
   "metadata": {},
   "outputs": [],
   "source": [
    "# 함수를 사용하여 \"good morning\"이라고 입력하면 \"good morning\"이라고 출력되도록 하세요.\n",
    "\n",
    "def greeting(text):\n",
    "    print(text)\n"
   ]
  },
  {
   "cell_type": "code",
   "execution_count": 12,
   "id": "08d3a390-bb0b-41ba-9f80-bfd42358c855",
   "metadata": {},
   "outputs": [
    {
     "name": "stdout",
     "output_type": "stream",
     "text": [
      "good\n"
     ]
    }
   ],
   "source": [
    "greeting(\"good\")"
   ]
  },
  {
   "cell_type": "code",
   "execution_count": 13,
   "id": "13cea12c-03e3-4217-9a6e-a1433fd3b16a",
   "metadata": {},
   "outputs": [],
   "source": [
    "books_list = ['Fooled bt Randomness','Sapines','Lenin on the Train']"
   ]
  },
  {
   "cell_type": "code",
   "execution_count": 14,
   "id": "400810c6-fa02-408b-bfbc-1441e921a122",
   "metadata": {},
   "outputs": [],
   "source": [
    "list_s = pd.Series(books_list)"
   ]
  },
  {
   "cell_type": "code",
   "execution_count": 15,
   "id": "37e9dd31-f9dd-4b07-a196-79b402482b8a",
   "metadata": {},
   "outputs": [],
   "source": [
    "books_dict = {0:'Fooled bt Randomness',1:'Sapines',2:'Lenin on the Train'}"
   ]
  },
  {
   "cell_type": "code",
   "execution_count": 16,
   "id": "959ee28d-1a79-42f1-9e39-d188b0678f7a",
   "metadata": {},
   "outputs": [],
   "source": [
    "dict_s = pd.Series(books_dict)"
   ]
  },
  {
   "cell_type": "code",
   "execution_count": 18,
   "id": "c9e5e3d7-7216-49f3-8920-4c95f30fdcc6",
   "metadata": {},
   "outputs": [
    {
     "data": {
      "text/plain": [
       "True"
      ]
     },
     "execution_count": 18,
     "metadata": {},
     "output_type": "execute_result"
    }
   ],
   "source": [
    "list_s.equals(dict_s)"
   ]
  },
  {
   "cell_type": "code",
   "execution_count": 19,
   "id": "2031cd3a-3e51-4165-8d43-e8d5dffae2f0",
   "metadata": {},
   "outputs": [
    {
     "data": {
      "text/plain": [
       "0    714\n",
       "dtype: int64"
      ]
     },
     "execution_count": 19,
     "metadata": {},
     "output_type": "execute_result"
    }
   ],
   "source": [
    "pd.Series(714)"
   ]
  },
  {
   "cell_type": "code",
   "execution_count": 20,
   "id": "32e10df5-e692-4391-b9ac-83e796820e21",
   "metadata": {},
   "outputs": [
    {
     "data": {
      "text/plain": [
       "0    Andy\n",
       "dtype: object"
      ]
     },
     "execution_count": 20,
     "metadata": {},
     "output_type": "execute_result"
    }
   ],
   "source": [
    "pd.Series('Andy')"
   ]
  },
  {
   "cell_type": "code",
   "execution_count": 21,
   "id": "537151ba-a38d-4d40-a36c-0cd2712755e7",
   "metadata": {},
   "outputs": [],
   "source": [
    "ages = [27, 49, 37]"
   ]
  },
  {
   "cell_type": "code",
   "execution_count": 22,
   "id": "6e230817-e3e8-46b6-af4f-19444abd9c2d",
   "metadata": {},
   "outputs": [
    {
     "data": {
      "text/plain": [
       "0    27\n",
       "1    49\n",
       "2    37\n",
       "dtype: int64"
      ]
     },
     "execution_count": 22,
     "metadata": {},
     "output_type": "execute_result"
    }
   ],
   "source": [
    "pd.Series(ages)"
   ]
  },
  {
   "cell_type": "code",
   "execution_count": 23,
   "id": "c81cf008-4824-4919-ac5a-d6d9a122e7bf",
   "metadata": {},
   "outputs": [
    {
     "data": {
      "text/plain": [
       "0    27.0\n",
       "1    49.0\n",
       "2    37.0\n",
       "dtype: float64"
      ]
     },
     "execution_count": 23,
     "metadata": {},
     "output_type": "execute_result"
    }
   ],
   "source": [
    "pd.Series(ages, dtype='float')"
   ]
  },
  {
   "cell_type": "code",
   "execution_count": 25,
   "id": "2aa44b3b-a515-40be-8116-913f082df40f",
   "metadata": {},
   "outputs": [
    {
     "data": {
      "text/plain": [
       "funny                  Fooled bt Randomness\n",
       "serious and amusing                 Sapines\n",
       "kinda interesting        Lenin on the Train\n",
       "dtype: string"
      ]
     },
     "execution_count": 25,
     "metadata": {},
     "output_type": "execute_result"
    }
   ],
   "source": [
    "pd.Series(books_list,[\"funny\",\"serious and amusing\",\"kinda interesting\"], dtype = 'string')"
   ]
  },
  {
   "cell_type": "code",
   "execution_count": 26,
   "id": "d8f76ad3-61e7-4a6a-b604-d218f8c994a6",
   "metadata": {},
   "outputs": [
    {
     "name": "stdout",
     "output_type": "stream",
     "text": [
      "0    Fooled bt Randomness\n",
      "1                 Sapines\n",
      "2      Lenin on the Train\n",
      "dtype: object\n"
     ]
    }
   ],
   "source": [
    "print(list_s)"
   ]
  },
  {
   "cell_type": "code",
   "execution_count": 27,
   "id": "a33320e4-a68d-4b81-ba90-9b0263262a59",
   "metadata": {},
   "outputs": [
    {
     "data": {
      "text/plain": [
       "RangeIndex(start=0, stop=3, step=1)"
      ]
     },
     "execution_count": 27,
     "metadata": {},
     "output_type": "execute_result"
    }
   ],
   "source": [
    "list_s.index"
   ]
  },
  {
   "cell_type": "code",
   "execution_count": 28,
   "id": "0e2dc52a-7929-4ea5-8414-1e95aee536ec",
   "metadata": {},
   "outputs": [
    {
     "data": {
      "text/plain": [
       "pandas.core.indexes.range.RangeIndex"
      ]
     },
     "execution_count": 28,
     "metadata": {},
     "output_type": "execute_result"
    }
   ],
   "source": [
    "type(list_s.index)"
   ]
  },
  {
   "cell_type": "code",
   "execution_count": 29,
   "id": "96b98cbd-7d46-4c28-8e4b-55faf19054eb",
   "metadata": {},
   "outputs": [
    {
     "data": {
      "text/plain": [
       "[4, 5, 6]"
      ]
     },
     "execution_count": 29,
     "metadata": {},
     "output_type": "execute_result"
    }
   ],
   "source": [
    "list(pd.RangeIndex(start=4, stop=7, step=1))"
   ]
  },
  {
   "cell_type": "code",
   "execution_count": 31,
   "id": "8c2089b6-f7c3-4c83-b7ef-02b161c7e61f",
   "metadata": {},
   "outputs": [
    {
     "data": {
      "text/plain": [
       "[10, 9, 8, 7, 6, 5, 4, 3, 2, 1, 0, -1, -2, -3, -4, -5, -6, -7, -8, -9, -10]"
      ]
     },
     "execution_count": 31,
     "metadata": {},
     "output_type": "execute_result"
    }
   ],
   "source": [
    "list(pd.RangeIndex(start=10, stop=-11, step=-1))"
   ]
  },
  {
   "cell_type": "code",
   "execution_count": 32,
   "id": "40b9cca8-85d0-40fb-b949-957a9d06a102",
   "metadata": {},
   "outputs": [],
   "source": [
    "books_series = list_s"
   ]
  },
  {
   "cell_type": "code",
   "execution_count": 34,
   "id": "cba81dce-f1d8-44a4-8853-94a301d837b8",
   "metadata": {},
   "outputs": [],
   "source": [
    "books_series.name = 'my favorite books'"
   ]
  },
  {
   "cell_type": "code",
   "execution_count": 35,
   "id": "ef68767b-c284-46f3-af01-abe235d73318",
   "metadata": {},
   "outputs": [
    {
     "data": {
      "text/plain": [
       "0    Fooled bt Randomness\n",
       "1                 Sapines\n",
       "2      Lenin on the Train\n",
       "Name: my favorite books, dtype: object"
      ]
     },
     "execution_count": 35,
     "metadata": {},
     "output_type": "execute_result"
    }
   ],
   "source": [
    "books_series"
   ]
  },
  {
   "cell_type": "code",
   "execution_count": 36,
   "id": "c87386cb-e977-4c3b-ac72-eef114ab0bc0",
   "metadata": {},
   "outputs": [],
   "source": [
    "actor_names = ['Tom Cruise','Meryl Streep','Tom Hardy','Amanda Seyfried']"
   ]
  },
  {
   "cell_type": "code",
   "execution_count": 37,
   "id": "559fc159-b6f6-4d4c-9798-aa7dad852b2e",
   "metadata": {},
   "outputs": [],
   "source": [
    "actor_ages = [54.3, 62.1, 36.2, 33.4]"
   ]
  },
  {
   "cell_type": "code",
   "execution_count": 38,
   "id": "72de752f-7049-4a78-96b3-ec1f45ff4d82",
   "metadata": {},
   "outputs": [],
   "source": [
    "actor_series = pd.Series(data=actor_ages, index = actor_names, name='actors')"
   ]
  },
  {
   "cell_type": "code",
   "execution_count": 39,
   "id": "692213b0-4e2c-40d9-ba3c-dba213382e9f",
   "metadata": {},
   "outputs": [
    {
     "data": {
      "text/plain": [
       "Tom Cruise         54.3\n",
       "Meryl Streep       62.1\n",
       "Tom Hardy          36.2\n",
       "Amanda Seyfried    33.4\n",
       "Name: actors, dtype: float64"
      ]
     },
     "execution_count": 39,
     "metadata": {},
     "output_type": "execute_result"
    }
   ],
   "source": [
    "actor_series"
   ]
  },
  {
   "cell_type": "code",
   "execution_count": 40,
   "id": "8b2f296e-037b-4778-9598-0bf7b5da7f24",
   "metadata": {},
   "outputs": [],
   "source": [
    "actor_dict = {'Tom Cruise':54.3, 'Meryl streep':62.1}"
   ]
  },
  {
   "cell_type": "code",
   "execution_count": 41,
   "id": "0f2f808a-47d9-43e6-bd4b-dfe2550b8b50",
   "metadata": {},
   "outputs": [
    {
     "data": {
      "text/plain": [
       "Tom Cruise      54.3\n",
       "Meryl streep    62.1\n",
       "dtype: float64"
      ]
     },
     "execution_count": 41,
     "metadata": {},
     "output_type": "execute_result"
    }
   ],
   "source": [
    "pd.Series(actor_dict)"
   ]
  },
  {
   "cell_type": "code",
   "execution_count": 42,
   "id": "0405418a-685b-41a2-bec9-b1c655fe8b66",
   "metadata": {},
   "outputs": [
    {
     "data": {
      "text/plain": [
       "[('Tom Cruise', 54.3),\n",
       " ('Meryl Streep', 62.1),\n",
       " ('Tom Hardy', 36.2),\n",
       " ('Amanda Seyfried', 33.4)]"
      ]
     },
     "execution_count": 42,
     "metadata": {},
     "output_type": "execute_result"
    }
   ],
   "source": [
    "list(zip(actor_names, actor_ages))"
   ]
  },
  {
   "cell_type": "code",
   "execution_count": 48,
   "id": "fd775692-19b9-4dac-9790-59878ce7d777",
   "metadata": {},
   "outputs": [
    {
     "name": "stdout",
     "output_type": "stream",
     "text": [
      "{'Tom Cruise': 54.3, 'Meryl Streep': 62.1, 'Tom Hardy': 36.2, 'Amanda Seyfried': 33.4}\n"
     ]
    }
   ],
   "source": [
    "print(dict(zip(actor_names, actor_ages)))"
   ]
  },
  {
   "cell_type": "code",
   "execution_count": 49,
   "id": "f9a8abac-bfe0-477d-a7f6-081764e43f5e",
   "metadata": {},
   "outputs": [
    {
     "data": {
      "text/plain": [
       "Tom Cruise         54.3\n",
       "Meryl Streep       62.1\n",
       "Tom Hardy          36.2\n",
       "Amanda Seyfried    33.4\n",
       "dtype: float64"
      ]
     },
     "execution_count": 49,
     "metadata": {},
     "output_type": "execute_result"
    }
   ],
   "source": [
    "pd.Series(dict(zip(actor_names, actor_ages)))"
   ]
  },
  {
   "cell_type": "code",
   "execution_count": 50,
   "id": "87d86e19-005b-48a2-b0a4-b8e060ae49e2",
   "metadata": {},
   "outputs": [],
   "source": [
    "int_series = pd.Series([i for i in range(15)])"
   ]
  },
  {
   "cell_type": "code",
   "execution_count": 51,
   "id": "c2af10ad-76ca-46ad-87a7-1ef856aec927",
   "metadata": {},
   "outputs": [
    {
     "data": {
      "text/plain": [
       "0      0\n",
       "1      1\n",
       "2      2\n",
       "3      3\n",
       "4      4\n",
       "5      5\n",
       "6      6\n",
       "7      7\n",
       "8      8\n",
       "9      9\n",
       "10    10\n",
       "11    11\n",
       "12    12\n",
       "13    13\n",
       "14    14\n",
       "dtype: int64"
      ]
     },
     "execution_count": 51,
     "metadata": {},
     "output_type": "execute_result"
    }
   ],
   "source": [
    "int_series"
   ]
  },
  {
   "cell_type": "code",
   "execution_count": 52,
   "id": "ab31f5f6-abfc-4b1f-8220-f322971877b1",
   "metadata": {},
   "outputs": [
    {
     "data": {
      "text/plain": [
       "[0, 1, 2, 3, 4, 5, 6, 7, 8, 9, 10, 11, 12, 13, 14, 15, 16, 17, 18, 19]"
      ]
     },
     "execution_count": 52,
     "metadata": {},
     "output_type": "execute_result"
    }
   ],
   "source": [
    "list(range(20))"
   ]
  },
  {
   "cell_type": "code",
   "execution_count": 53,
   "id": "abc6dd78-31fe-4117-97fd-4a30dadab076",
   "metadata": {},
   "outputs": [
    {
     "data": {
      "text/plain": [
       "15"
      ]
     },
     "execution_count": 53,
     "metadata": {},
     "output_type": "execute_result"
    }
   ],
   "source": [
    "int_series.size"
   ]
  },
  {
   "cell_type": "code",
   "execution_count": 54,
   "id": "55558b36-f129-4672-a2c9-5e4fcdbcf776",
   "metadata": {},
   "outputs": [
    {
     "data": {
      "text/plain": [
       "15"
      ]
     },
     "execution_count": 54,
     "metadata": {},
     "output_type": "execute_result"
    }
   ],
   "source": [
    "len(int_series)"
   ]
  },
  {
   "cell_type": "code",
   "execution_count": 55,
   "id": "23680a00-962f-4d49-ba8c-f0916d341198",
   "metadata": {},
   "outputs": [
    {
     "data": {
      "text/plain": [
       "0    0\n",
       "1    1\n",
       "2    2\n",
       "3    3\n",
       "4    4\n",
       "dtype: int64"
      ]
     },
     "execution_count": 55,
     "metadata": {},
     "output_type": "execute_result"
    }
   ],
   "source": [
    "int_series.head()"
   ]
  },
  {
   "cell_type": "code",
   "execution_count": 56,
   "id": "34fed110-8c25-4c52-aa40-f2f9fdb676bf",
   "metadata": {},
   "outputs": [
    {
     "data": {
      "text/plain": [
       "10    10\n",
       "11    11\n",
       "12    12\n",
       "13    13\n",
       "14    14\n",
       "dtype: int64"
      ]
     },
     "execution_count": 56,
     "metadata": {},
     "output_type": "execute_result"
    }
   ],
   "source": [
    "int_series.tail()"
   ]
  },
  {
   "cell_type": "code",
   "execution_count": 57,
   "id": "c8ac5eeb-8e8a-4de8-8342-bbb5cee552ff",
   "metadata": {},
   "outputs": [
    {
     "data": {
      "text/plain": [
       "0    0\n",
       "1    1\n",
       "2    2\n",
       "dtype: int64"
      ]
     },
     "execution_count": 57,
     "metadata": {},
     "output_type": "execute_result"
    }
   ],
   "source": [
    "int_series.head(n=3)"
   ]
  },
  {
   "cell_type": "code",
   "execution_count": 58,
   "id": "cf150ed1-5105-47e6-a46c-5a39ab909df8",
   "metadata": {},
   "outputs": [
    {
     "data": {
      "text/plain": [
       "8      8\n",
       "9      9\n",
       "10    10\n",
       "11    11\n",
       "12    12\n",
       "13    13\n",
       "14    14\n",
       "dtype: int64"
      ]
     },
     "execution_count": 58,
     "metadata": {},
     "output_type": "execute_result"
    }
   ],
   "source": [
    "int_series.tail(7)"
   ]
  },
  {
   "cell_type": "code",
   "execution_count": 59,
   "id": "de352304-b385-4f69-90b9-840a7a001746",
   "metadata": {},
   "outputs": [],
   "source": [
    "from string import ascii_lowercase"
   ]
  },
  {
   "cell_type": "code",
   "execution_count": 60,
   "id": "0866697a-bb3f-4f58-9ef5-804547b6ce25",
   "metadata": {},
   "outputs": [
    {
     "data": {
      "text/plain": [
       "'abcdefghijklmnopqrstuvwxyz'"
      ]
     },
     "execution_count": 60,
     "metadata": {},
     "output_type": "execute_result"
    }
   ],
   "source": [
    "ascii_lowercase"
   ]
  },
  {
   "cell_type": "code",
   "execution_count": 61,
   "id": "6213f69e-5630-4e35-bdbd-72dd94cc7ffc",
   "metadata": {},
   "outputs": [
    {
     "data": {
      "text/plain": [
       "0    Andy\n",
       "dtype: object"
      ]
     },
     "execution_count": 61,
     "metadata": {},
     "output_type": "execute_result"
    }
   ],
   "source": [
    "pd.Series('Andy')"
   ]
  },
  {
   "cell_type": "code",
   "execution_count": 63,
   "id": "a02bd6c2-1c28-4360-9adf-2b87ad3b8ea0",
   "metadata": {},
   "outputs": [
    {
     "data": {
      "text/plain": [
       "0    abcdefghijklmnopqrstuvwxyz\n",
       "dtype: object"
      ]
     },
     "execution_count": 63,
     "metadata": {},
     "output_type": "execute_result"
    }
   ],
   "source": [
    "pd.Series(ascii_lowercase)"
   ]
  },
  {
   "cell_type": "code",
   "execution_count": 64,
   "id": "a091f424-cf27-4261-9116-31a4354ce89b",
   "metadata": {},
   "outputs": [
    {
     "data": {
      "text/plain": [
       "26"
      ]
     },
     "execution_count": 64,
     "metadata": {},
     "output_type": "execute_result"
    }
   ],
   "source": [
    "len(list(ascii_lowercase))"
   ]
  },
  {
   "cell_type": "code",
   "execution_count": 65,
   "id": "c8e6e877-acdd-4f71-9ebf-e0812c3879c5",
   "metadata": {},
   "outputs": [],
   "source": [
    "letters = list(ascii_lowercase)"
   ]
  },
  {
   "cell_type": "code",
   "execution_count": 66,
   "id": "89038ce6-fc6b-4596-ac6d-4d01df97c4d9",
   "metadata": {},
   "outputs": [],
   "source": [
    "alphabet = pd.Series(data=letters)"
   ]
  },
  {
   "cell_type": "code",
   "execution_count": 67,
   "id": "7f20d851-a044-4763-9db4-149eb41b26b8",
   "metadata": {},
   "outputs": [
    {
     "data": {
      "text/plain": [
       "0    a\n",
       "1    b\n",
       "2    c\n",
       "3    d\n",
       "4    e\n",
       "5    f\n",
       "dtype: object"
      ]
     },
     "execution_count": 67,
     "metadata": {},
     "output_type": "execute_result"
    }
   ],
   "source": [
    "alphabet.head(6)"
   ]
  },
  {
   "cell_type": "code",
   "execution_count": 68,
   "id": "ed4cfad0-b9ed-4bce-934b-9ce8d1e5f895",
   "metadata": {},
   "outputs": [
    {
     "data": {
      "text/plain": [
       "0    a\n",
       "dtype: object"
      ]
     },
     "execution_count": 68,
     "metadata": {},
     "output_type": "execute_result"
    }
   ],
   "source": [
    "alphabet.head(1)"
   ]
  },
  {
   "cell_type": "code",
   "execution_count": 69,
   "id": "dc8d3dd8-b785-4241-a8fb-de60ddcd6b76",
   "metadata": {},
   "outputs": [
    {
     "data": {
      "text/plain": [
       "'b'"
      ]
     },
     "execution_count": 69,
     "metadata": {},
     "output_type": "execute_result"
    }
   ],
   "source": [
    "alphabet[1]"
   ]
  },
  {
   "cell_type": "code",
   "execution_count": 70,
   "id": "f783ea40-1f1c-4e87-87a4-3ec176a57646",
   "metadata": {},
   "outputs": [
    {
     "data": {
      "text/plain": [
       "'a'"
      ]
     },
     "execution_count": 70,
     "metadata": {},
     "output_type": "execute_result"
    }
   ],
   "source": [
    "alphabet[0]"
   ]
  },
  {
   "cell_type": "code",
   "execution_count": 71,
   "id": "c1053c32-6c32-41db-856b-74b016c29383",
   "metadata": {},
   "outputs": [
    {
     "data": {
      "text/plain": [
       "0    a\n",
       "1    b\n",
       "2    c\n",
       "dtype: object"
      ]
     },
     "execution_count": 71,
     "metadata": {},
     "output_type": "execute_result"
    }
   ],
   "source": [
    "alphabet[:3]"
   ]
  },
  {
   "cell_type": "code",
   "execution_count": 72,
   "id": "9149cb06-ea3a-4baf-b1af-bc4d5a5f8287",
   "metadata": {},
   "outputs": [
    {
     "data": {
      "text/plain": [
       "0    a\n",
       "1    b\n",
       "2    c\n",
       "3    d\n",
       "dtype: object"
      ]
     },
     "execution_count": 72,
     "metadata": {},
     "output_type": "execute_result"
    }
   ],
   "source": [
    "alphabet[0:4]"
   ]
  },
  {
   "cell_type": "code",
   "execution_count": 73,
   "id": "37df6908-21c6-4822-8cc0-c3324cb6af8b",
   "metadata": {},
   "outputs": [
    {
     "data": {
      "text/plain": [
       "5    f\n",
       "6    g\n",
       "7    h\n",
       "8    i\n",
       "9    j\n",
       "dtype: object"
      ]
     },
     "execution_count": 73,
     "metadata": {},
     "output_type": "execute_result"
    }
   ],
   "source": [
    "alphabet[5:10]"
   ]
  },
  {
   "cell_type": "code",
   "execution_count": 75,
   "id": "74ac2f61-80c2-4c64-8f19-91b9d71be4cd",
   "metadata": {},
   "outputs": [],
   "source": [
    "from string import ascii_uppercase"
   ]
  },
  {
   "cell_type": "code",
   "execution_count": 77,
   "id": "dcd77a18-3cc6-4598-8c13-b5e695820e35",
   "metadata": {},
   "outputs": [],
   "source": [
    "index = ['label_' + letter for letter in ascii_uppercase]"
   ]
  },
  {
   "cell_type": "code",
   "execution_count": 78,
   "id": "535d944e-4833-4651-a64c-5e7f2eb6b765",
   "metadata": {},
   "outputs": [],
   "source": [
    "data = list(ascii_lowercase)"
   ]
  },
  {
   "cell_type": "code",
   "execution_count": 79,
   "id": "7e2ab233-5c65-4ecf-a8ee-efaa64ac402d",
   "metadata": {},
   "outputs": [],
   "source": [
    "labeled_alphabet = pd.Series(data=data, index=index)"
   ]
  },
  {
   "cell_type": "code",
   "execution_count": 81,
   "id": "a1433011-a9d1-431e-8420-bd7606d24dc8",
   "metadata": {},
   "outputs": [
    {
     "data": {
      "text/plain": [
       "label_A    a\n",
       "label_B    b\n",
       "label_C    c\n",
       "label_D    d\n",
       "label_E    e\n",
       "label_F    f\n",
       "label_G    g\n",
       "label_H    h\n",
       "label_I    i\n",
       "label_J    j\n",
       "dtype: object"
      ]
     },
     "execution_count": 81,
     "metadata": {},
     "output_type": "execute_result"
    }
   ],
   "source": [
    "labeled_alphabet.head(10)"
   ]
  },
  {
   "cell_type": "code",
   "execution_count": 87,
   "id": "f54dc10f-d955-4683-b77a-076214b5bbc3",
   "metadata": {},
   "outputs": [],
   "source": [
    "labeled_alphabet2 = pd.Series(data=list(ascii_lowercase), index=map(lambda x:'label_'+x,list(ascii_uppercase)))\n",
    "\n",
    "# def add_something(x):\n",
    "#     return 'label_'+ x"
   ]
  },
  {
   "cell_type": "code",
   "execution_count": 89,
   "id": "959bd5f8-7293-4f4f-9b7a-0f7dc97f765b",
   "metadata": {},
   "outputs": [
    {
     "data": {
      "text/plain": [
       "'k'"
      ]
     },
     "execution_count": 89,
     "metadata": {},
     "output_type": "execute_result"
    }
   ],
   "source": [
    "labeled_alphabet2['label_K']"
   ]
  },
  {
   "cell_type": "code",
   "execution_count": 91,
   "id": "5418d5bb-123d-49ea-a806-6de18f68cbaa",
   "metadata": {},
   "outputs": [
    {
     "data": {
      "text/plain": [
       "label_F    f\n",
       "label_G    g\n",
       "label_H    h\n",
       "label_I    i\n",
       "label_J    j\n",
       "label_K    k\n",
       "label_L    l\n",
       "dtype: object"
      ]
     },
     "execution_count": 91,
     "metadata": {},
     "output_type": "execute_result"
    }
   ],
   "source": [
    "labeled_alphabet2['label_F':'label_L']"
   ]
  },
  {
   "cell_type": "code",
   "execution_count": 92,
   "id": "75f7215c-a487-4099-9a02-4c6c8dd4c288",
   "metadata": {},
   "outputs": [
    {
     "data": {
      "text/plain": [
       "label_U    u\n",
       "label_V    v\n",
       "label_W    w\n",
       "label_X    x\n",
       "label_Y    y\n",
       "label_Z    z\n",
       "dtype: object"
      ]
     },
     "execution_count": 92,
     "metadata": {},
     "output_type": "execute_result"
    }
   ],
   "source": [
    "labeled_alphabet2['label_U':]"
   ]
  },
  {
   "cell_type": "code",
   "execution_count": 93,
   "id": "69678681-8b6d-4af0-bba2-f86ddbbcf3ea",
   "metadata": {},
   "outputs": [
    {
     "data": {
      "text/plain": [
       "label_0     a\n",
       "label_1     b\n",
       "label_2     c\n",
       "label_3     d\n",
       "label_4     e\n",
       "label_5     f\n",
       "label_6     g\n",
       "label_7     h\n",
       "label_8     i\n",
       "label_9     j\n",
       "label_10    k\n",
       "label_11    l\n",
       "label_12    m\n",
       "label_13    n\n",
       "label_14    o\n",
       "label_15    p\n",
       "label_16    q\n",
       "label_17    r\n",
       "label_18    s\n",
       "label_19    t\n",
       "label_20    u\n",
       "label_21    v\n",
       "label_22    w\n",
       "label_23    x\n",
       "label_24    y\n",
       "label_25    z\n",
       "dtype: object"
      ]
     },
     "execution_count": 93,
     "metadata": {},
     "output_type": "execute_result"
    }
   ],
   "source": [
    "alphabet.add_prefix('label_')"
   ]
  },
  {
   "cell_type": "code",
   "execution_count": 95,
   "id": "7f628b4b-e33e-4477-8fe7-d87466731e26",
   "metadata": {},
   "outputs": [
    {
     "data": {
      "text/plain": [
       "0_some_cool_ending     a\n",
       "1_some_cool_ending     b\n",
       "2_some_cool_ending     c\n",
       "3_some_cool_ending     d\n",
       "4_some_cool_ending     e\n",
       "5_some_cool_ending     f\n",
       "6_some_cool_ending     g\n",
       "7_some_cool_ending     h\n",
       "8_some_cool_ending     i\n",
       "9_some_cool_ending     j\n",
       "10_some_cool_ending    k\n",
       "11_some_cool_ending    l\n",
       "12_some_cool_ending    m\n",
       "13_some_cool_ending    n\n",
       "14_some_cool_ending    o\n",
       "15_some_cool_ending    p\n",
       "16_some_cool_ending    q\n",
       "17_some_cool_ending    r\n",
       "18_some_cool_ending    s\n",
       "19_some_cool_ending    t\n",
       "20_some_cool_ending    u\n",
       "21_some_cool_ending    v\n",
       "22_some_cool_ending    w\n",
       "23_some_cool_ending    x\n",
       "24_some_cool_ending    y\n",
       "25_some_cool_ending    z\n",
       "dtype: object"
      ]
     },
     "execution_count": 95,
     "metadata": {},
     "output_type": "execute_result"
    }
   ],
   "source": [
    "alphabet.add_suffix('_some_cool_ending')"
   ]
  },
  {
   "cell_type": "code",
   "execution_count": 98,
   "id": "4d31d371-bfdc-441e-a457-26364ed110f8",
   "metadata": {},
   "outputs": [
    {
     "data": {
      "text/plain": [
       "'v'"
      ]
     },
     "execution_count": 98,
     "metadata": {},
     "output_type": "execute_result"
    }
   ],
   "source": [
    "#'v'\n",
    "labeled_alphabet2['label_V']"
   ]
  },
  {
   "cell_type": "code",
   "execution_count": 99,
   "id": "3e77d00d-c78a-49e0-8d6f-e0e6241f60af",
   "metadata": {},
   "outputs": [
    {
     "data": {
      "text/plain": [
       "'v'"
      ]
     },
     "execution_count": 99,
     "metadata": {},
     "output_type": "execute_result"
    }
   ],
   "source": [
    "labeled_alphabet2.label_V"
   ]
  },
  {
   "cell_type": "code",
   "execution_count": 100,
   "id": "683abb33-dd31-453a-a751-14d4fc6623d5",
   "metadata": {},
   "outputs": [
    {
     "data": {
      "text/plain": [
       "0    Fooled bt Randomness\n",
       "1                 Sapines\n",
       "2      Lenin on the Train\n",
       "Name: my favorite books, dtype: object"
      ]
     },
     "execution_count": 100,
     "metadata": {},
     "output_type": "execute_result"
    }
   ],
   "source": [
    "books_series"
   ]
  },
  {
   "cell_type": "code",
   "execution_count": 101,
   "id": "626153e3-408e-40b0-b41b-1f1654d3da64",
   "metadata": {},
   "outputs": [
    {
     "data": {
      "text/plain": [
       "0    Fooled bt Randomness\n",
       "2      Lenin on the Train\n",
       "Name: my favorite books, dtype: object"
      ]
     },
     "execution_count": 101,
     "metadata": {},
     "output_type": "execute_result"
    }
   ],
   "source": [
    "books_series.loc[[True, False, True]]"
   ]
  },
  {
   "cell_type": "code",
   "execution_count": 102,
   "id": "2fc1b9e1-3e60-473f-b87d-87f36b355562",
   "metadata": {},
   "outputs": [
    {
     "data": {
      "text/plain": [
       "label_A    a\n",
       "label_B    b\n",
       "label_C    c\n",
       "label_D    d\n",
       "label_E    e\n",
       "label_F    f\n",
       "label_G    g\n",
       "label_H    h\n",
       "label_I    i\n",
       "label_J    j\n",
       "label_K    k\n",
       "label_L    l\n",
       "label_M    m\n",
       "label_N    n\n",
       "label_O    o\n",
       "label_P    p\n",
       "label_Q    q\n",
       "label_R    r\n",
       "label_S    s\n",
       "label_T    t\n",
       "label_U    u\n",
       "label_V    v\n",
       "label_W    w\n",
       "label_X    x\n",
       "label_Y    y\n",
       "label_Z    z\n",
       "dtype: object"
      ]
     },
     "execution_count": 102,
     "metadata": {},
     "output_type": "execute_result"
    }
   ],
   "source": [
    "labeled_alphabet2.loc[[True for i in range(26)]]"
   ]
  },
  {
   "cell_type": "code",
   "execution_count": 103,
   "id": "32628f7a-4863-45db-96e3-98b4f77000fd",
   "metadata": {},
   "outputs": [],
   "source": [
    "# loc => location => indexing by label\n",
    "# iloc => integer loc => indexing by position"
   ]
  },
  {
   "cell_type": "code",
   "execution_count": 104,
   "id": "64bd9ad7-d819-4f8c-9c4a-effc7c8bb886",
   "metadata": {},
   "outputs": [
    {
     "data": {
      "text/plain": [
       "'a'"
      ]
     },
     "execution_count": 104,
     "metadata": {},
     "output_type": "execute_result"
    }
   ],
   "source": [
    "labeled_alphabet2.iloc[0]"
   ]
  },
  {
   "cell_type": "code",
   "execution_count": 105,
   "id": "6f92d5b6-9171-40d5-aefd-3ed3bf77e234",
   "metadata": {},
   "outputs": [
    {
     "data": {
      "text/plain": [
       "label_B    b\n",
       "label_C    c\n",
       "dtype: object"
      ]
     },
     "execution_count": 105,
     "metadata": {},
     "output_type": "execute_result"
    }
   ],
   "source": [
    "labeled_alphabet2.iloc[1:3]"
   ]
  },
  {
   "cell_type": "code",
   "execution_count": 107,
   "id": "80b103a3-5d42-478b-a53c-d1ac7af3c7d3",
   "metadata": {},
   "outputs": [
    {
     "data": {
      "text/plain": [
       "label_N    n\n",
       "label_O    o\n",
       "label_P    p\n",
       "label_Q    q\n",
       "label_R    r\n",
       "label_S    s\n",
       "label_T    t\n",
       "label_U    u\n",
       "label_V    v\n",
       "label_W    w\n",
       "label_X    x\n",
       "label_Y    y\n",
       "label_Z    z\n",
       "dtype: object"
      ]
     },
     "execution_count": 107,
     "metadata": {},
     "output_type": "execute_result"
    }
   ],
   "source": [
    "labeled_alphabet.loc[lambda x: x>='n']"
   ]
  },
  {
   "cell_type": "code",
   "execution_count": 115,
   "id": "e28a3d4a-cdf5-456b-aed0-242a5b092038",
   "metadata": {},
   "outputs": [],
   "source": [
    "# every_fifth라는 함수는 배열 내에서 5, 10, 15, 20 ... 인자만 return해 줍니다.\n",
    "# 이를 활용하여 labeled_alphabet의 5, 10, 15, 20 ... 인자만 출력하도록 해주세요."
   ]
  },
  {
   "cell_type": "code",
   "execution_count": 117,
   "id": "dd05b57e-8791-4ef8-b52b-3d6a771a3915",
   "metadata": {},
   "outputs": [],
   "source": [
    "def every_fifth(x):\n",
    "    return [True if(i+1)% 5 == 0 else False for i in range(x.size)]"
   ]
  },
  {
   "cell_type": "code",
   "execution_count": 118,
   "id": "506180bf-57fc-4394-9841-090124d3c277",
   "metadata": {},
   "outputs": [
    {
     "data": {
      "text/plain": [
       "label_E    e\n",
       "label_J    j\n",
       "label_O    o\n",
       "label_T    t\n",
       "label_Y    y\n",
       "dtype: object"
      ]
     },
     "execution_count": 118,
     "metadata": {},
     "output_type": "execute_result"
    }
   ],
   "source": [
    "labeled_alphabet.iloc[every_fifth]"
   ]
  },
  {
   "cell_type": "code",
   "execution_count": null,
   "id": "dfc3bcf1-4102-421a-8c00-173e9861ceef",
   "metadata": {},
   "outputs": [],
   "source": []
  }
 ],
 "metadata": {
  "kernelspec": {
   "display_name": "Python 3 (ipykernel)",
   "language": "python",
   "name": "python3"
  },
  "language_info": {
   "codemirror_mode": {
    "name": "ipython",
    "version": 3
   },
   "file_extension": ".py",
   "mimetype": "text/x-python",
   "name": "python",
   "nbconvert_exporter": "python",
   "pygments_lexer": "ipython3",
   "version": "3.13.2"
  }
 },
 "nbformat": 4,
 "nbformat_minor": 5
}
