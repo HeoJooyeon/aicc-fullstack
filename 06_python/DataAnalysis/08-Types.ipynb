{
 "cells": [
  {
   "cell_type": "code",
   "execution_count": 2,
   "id": "8b2ef74f-1563-4eb0-8a47-cecbbe9e00bf",
   "metadata": {},
   "outputs": [],
   "source": [
    "import pandas as pd\n",
    "houses = pd.read_csv(\"data/kc_house_data.csv\")\n",
    "titanic = pd.read_csv(\"data/titanic.csv\")\n",
    "netflix = pd.read_csv(\"data/netflix_titles.csv\", sep=\"|\", index_col=0)\n",
    "btc = pd.read_csv(\"data/coin_Bitcoin.csv\")\n",
    "countries = pd.read_csv(\"data/world-happiness-report-2021.csv\")"
   ]
  },
  {
   "cell_type": "code",
   "execution_count": 2,
   "id": "0ecd0c29-895a-4cf5-8866-700c1e0f648d",
   "metadata": {},
   "outputs": [
    {
     "data": {
      "text/plain": [
       "age\n",
       "?         263\n",
       "24         47\n",
       "22         43\n",
       "21         41\n",
       "30         40\n",
       "         ... \n",
       "60.5        1\n",
       "74          1\n",
       "0.4167      1\n",
       "11.5        1\n",
       "26.5        1\n",
       "Name: count, Length: 99, dtype: int64"
      ]
     },
     "execution_count": 2,
     "metadata": {},
     "output_type": "execute_result"
    }
   ],
   "source": [
    "titanic[\"age\"].value_counts()"
   ]
  },
  {
   "cell_type": "code",
   "execution_count": 4,
   "id": "3b3a453f-008d-43e1-ad56-532a9baae4ee",
   "metadata": {},
   "outputs": [],
   "source": [
    "titanic[\"age\"].replace([\"?\"],[None],inplace=True)"
   ]
  },
  {
   "cell_type": "code",
   "execution_count": 7,
   "id": "6ec820a5-7391-427f-bff4-432181ecc6e9",
   "metadata": {},
   "outputs": [
    {
     "data": {
      "text/plain": [
       "age\n",
       "None      263\n",
       "24         47\n",
       "22         43\n",
       "21         41\n",
       "30         40\n",
       "         ... \n",
       "60.5        1\n",
       "74          1\n",
       "0.4167      1\n",
       "11.5        1\n",
       "26.5        1\n",
       "Name: count, Length: 99, dtype: int64"
      ]
     },
     "execution_count": 7,
     "metadata": {},
     "output_type": "execute_result"
    }
   ],
   "source": [
    "titanic.age.value_counts(dropna=False)"
   ]
  },
  {
   "cell_type": "code",
   "execution_count": 12,
   "id": "2dcf40b9-8689-40c8-8fa6-b9efe94fe65c",
   "metadata": {},
   "outputs": [],
   "source": [
    "titanic[\"age\"] = titanic[\"age\"].astype(\"float\")"
   ]
  },
  {
   "cell_type": "code",
   "execution_count": 14,
   "id": "d52d3ac5-351f-498a-b3c8-20fe55196c15",
   "metadata": {},
   "outputs": [
    {
     "data": {
      "text/plain": [
       "pclass         int64\n",
       "survived       int64\n",
       "name          object\n",
       "sex           object\n",
       "age          float64\n",
       "sibsp          int64\n",
       "parch          int64\n",
       "ticket        object\n",
       "fare          object\n",
       "cabin         object\n",
       "embarked      object\n",
       "boat          object\n",
       "body          object\n",
       "home.dest     object\n",
       "dtype: object"
      ]
     },
     "execution_count": 14,
     "metadata": {},
     "output_type": "execute_result"
    }
   ],
   "source": [
    "titanic.dtypes"
   ]
  },
  {
   "cell_type": "code",
   "execution_count": 3,
   "id": "dda79090-3ad9-430f-80d5-3d1285c89db8",
   "metadata": {},
   "outputs": [],
   "source": [
    "titanic[\"age\"] = pd.to_numeric(titanic[\"age\"], errors=\"coerce\")"
   ]
  },
  {
   "cell_type": "code",
   "execution_count": 4,
   "id": "063edb80-2b54-45dd-a7ac-f7aa6b4832df",
   "metadata": {},
   "outputs": [
    {
     "data": {
      "text/plain": [
       "count    1046.000000\n",
       "mean       29.881135\n",
       "std        14.413500\n",
       "min         0.166700\n",
       "25%        21.000000\n",
       "50%        28.000000\n",
       "75%        39.000000\n",
       "max        80.000000\n",
       "Name: age, dtype: float64"
      ]
     },
     "execution_count": 4,
     "metadata": {},
     "output_type": "execute_result"
    }
   ],
   "source": [
    "titanic[\"age\"].describe()"
   ]
  },
  {
   "cell_type": "code",
   "execution_count": 5,
   "id": "78040e06-fc5f-4fec-9352-044fd00407c8",
   "metadata": {},
   "outputs": [],
   "source": [
    "stats = pd.read_csv(\"data/game_stats.csv\")"
   ]
  },
  {
   "cell_type": "code",
   "execution_count": 8,
   "id": "0bf5dfe3-cbd6-4b7c-a29d-279789d0e980",
   "metadata": {},
   "outputs": [
    {
     "data": {
      "text/html": [
       "<div>\n",
       "<style scoped>\n",
       "    .dataframe tbody tr th:only-of-type {\n",
       "        vertical-align: middle;\n",
       "    }\n",
       "\n",
       "    .dataframe tbody tr th {\n",
       "        vertical-align: top;\n",
       "    }\n",
       "\n",
       "    .dataframe thead th {\n",
       "        text-align: right;\n",
       "    }\n",
       "</style>\n",
       "<table border=\"1\" class=\"dataframe\">\n",
       "  <thead>\n",
       "    <tr style=\"text-align: right;\">\n",
       "      <th></th>\n",
       "      <th>name</th>\n",
       "      <th>league</th>\n",
       "      <th>points</th>\n",
       "      <th>assists</th>\n",
       "      <th>rebounds</th>\n",
       "    </tr>\n",
       "  </thead>\n",
       "  <tbody>\n",
       "    <tr>\n",
       "      <th>0</th>\n",
       "      <td>False</td>\n",
       "      <td>False</td>\n",
       "      <td>False</td>\n",
       "      <td>False</td>\n",
       "      <td>False</td>\n",
       "    </tr>\n",
       "    <tr>\n",
       "      <th>1</th>\n",
       "      <td>False</td>\n",
       "      <td>True</td>\n",
       "      <td>False</td>\n",
       "      <td>True</td>\n",
       "      <td>False</td>\n",
       "    </tr>\n",
       "    <tr>\n",
       "      <th>2</th>\n",
       "      <td>False</td>\n",
       "      <td>False</td>\n",
       "      <td>True</td>\n",
       "      <td>True</td>\n",
       "      <td>True</td>\n",
       "    </tr>\n",
       "    <tr>\n",
       "      <th>3</th>\n",
       "      <td>False</td>\n",
       "      <td>False</td>\n",
       "      <td>False</td>\n",
       "      <td>True</td>\n",
       "      <td>False</td>\n",
       "    </tr>\n",
       "    <tr>\n",
       "      <th>4</th>\n",
       "      <td>False</td>\n",
       "      <td>True</td>\n",
       "      <td>False</td>\n",
       "      <td>True</td>\n",
       "      <td>True</td>\n",
       "    </tr>\n",
       "    <tr>\n",
       "      <th>5</th>\n",
       "      <td>False</td>\n",
       "      <td>False</td>\n",
       "      <td>False</td>\n",
       "      <td>False</td>\n",
       "      <td>False</td>\n",
       "    </tr>\n",
       "    <tr>\n",
       "      <th>6</th>\n",
       "      <td>True</td>\n",
       "      <td>True</td>\n",
       "      <td>True</td>\n",
       "      <td>True</td>\n",
       "      <td>True</td>\n",
       "    </tr>\n",
       "  </tbody>\n",
       "</table>\n",
       "</div>"
      ],
      "text/plain": [
       "    name  league  points  assists  rebounds\n",
       "0  False   False   False    False     False\n",
       "1  False    True   False     True     False\n",
       "2  False   False    True     True      True\n",
       "3  False   False   False     True     False\n",
       "4  False    True   False     True      True\n",
       "5  False   False   False    False     False\n",
       "6   True    True    True     True      True"
      ]
     },
     "execution_count": 8,
     "metadata": {},
     "output_type": "execute_result"
    }
   ],
   "source": [
    "stats.isna()"
   ]
  },
  {
   "cell_type": "code",
   "execution_count": 9,
   "id": "e71d77c4-5877-4da2-a1b0-9170e34468bd",
   "metadata": {},
   "outputs": [
    {
     "data": {
      "text/html": [
       "<div>\n",
       "<style scoped>\n",
       "    .dataframe tbody tr th:only-of-type {\n",
       "        vertical-align: middle;\n",
       "    }\n",
       "\n",
       "    .dataframe tbody tr th {\n",
       "        vertical-align: top;\n",
       "    }\n",
       "\n",
       "    .dataframe thead th {\n",
       "        text-align: right;\n",
       "    }\n",
       "</style>\n",
       "<table border=\"1\" class=\"dataframe\">\n",
       "  <thead>\n",
       "    <tr style=\"text-align: right;\">\n",
       "      <th></th>\n",
       "      <th>name</th>\n",
       "      <th>league</th>\n",
       "      <th>points</th>\n",
       "      <th>assists</th>\n",
       "      <th>rebounds</th>\n",
       "    </tr>\n",
       "  </thead>\n",
       "  <tbody>\n",
       "    <tr>\n",
       "      <th>1</th>\n",
       "      <td>jessie</td>\n",
       "      <td>NaN</td>\n",
       "      <td>10.0</td>\n",
       "      <td>NaN</td>\n",
       "      <td>2.0</td>\n",
       "    </tr>\n",
       "    <tr>\n",
       "      <th>4</th>\n",
       "      <td>timothee</td>\n",
       "      <td>NaN</td>\n",
       "      <td>8.0</td>\n",
       "      <td>NaN</td>\n",
       "      <td>NaN</td>\n",
       "    </tr>\n",
       "    <tr>\n",
       "      <th>6</th>\n",
       "      <td>NaN</td>\n",
       "      <td>NaN</td>\n",
       "      <td>NaN</td>\n",
       "      <td>NaN</td>\n",
       "      <td>NaN</td>\n",
       "    </tr>\n",
       "  </tbody>\n",
       "</table>\n",
       "</div>"
      ],
      "text/plain": [
       "       name league  points  assists  rebounds\n",
       "1    jessie    NaN    10.0      NaN       2.0\n",
       "4  timothee    NaN     8.0      NaN       NaN\n",
       "6       NaN    NaN     NaN      NaN       NaN"
      ]
     },
     "execution_count": 9,
     "metadata": {},
     "output_type": "execute_result"
    }
   ],
   "source": [
    "stats[stats[\"league\"].isna()]"
   ]
  },
  {
   "cell_type": "code",
   "execution_count": 10,
   "id": "c199c9d9-b877-430c-a38d-00eac96c5e7f",
   "metadata": {},
   "outputs": [
    {
     "data": {
      "text/plain": [
       "0    5.0\n",
       "5    8.0\n",
       "Name: assists, dtype: float64"
      ]
     },
     "execution_count": 10,
     "metadata": {},
     "output_type": "execute_result"
    }
   ],
   "source": [
    "stats[\"assists\"].dropna()"
   ]
  },
  {
   "cell_type": "code",
   "execution_count": 11,
   "id": "90c47e90-c2df-4a53-b25a-4d191f5bdc62",
   "metadata": {},
   "outputs": [
    {
     "data": {
      "text/html": [
       "<div>\n",
       "<style scoped>\n",
       "    .dataframe tbody tr th:only-of-type {\n",
       "        vertical-align: middle;\n",
       "    }\n",
       "\n",
       "    .dataframe tbody tr th {\n",
       "        vertical-align: top;\n",
       "    }\n",
       "\n",
       "    .dataframe thead th {\n",
       "        text-align: right;\n",
       "    }\n",
       "</style>\n",
       "<table border=\"1\" class=\"dataframe\">\n",
       "  <thead>\n",
       "    <tr style=\"text-align: right;\">\n",
       "      <th></th>\n",
       "      <th>name</th>\n",
       "      <th>league</th>\n",
       "      <th>points</th>\n",
       "      <th>assists</th>\n",
       "      <th>rebounds</th>\n",
       "    </tr>\n",
       "  </thead>\n",
       "  <tbody>\n",
       "    <tr>\n",
       "      <th>0</th>\n",
       "      <td>bob</td>\n",
       "      <td>nba</td>\n",
       "      <td>22.0</td>\n",
       "      <td>5.0</td>\n",
       "      <td>10.0</td>\n",
       "    </tr>\n",
       "    <tr>\n",
       "      <th>5</th>\n",
       "      <td>steph</td>\n",
       "      <td>nba</td>\n",
       "      <td>49.0</td>\n",
       "      <td>8.0</td>\n",
       "      <td>10.0</td>\n",
       "    </tr>\n",
       "  </tbody>\n",
       "</table>\n",
       "</div>"
      ],
      "text/plain": [
       "    name league  points  assists  rebounds\n",
       "0    bob    nba    22.0      5.0      10.0\n",
       "5  steph    nba    49.0      8.0      10.0"
      ]
     },
     "execution_count": 11,
     "metadata": {},
     "output_type": "execute_result"
    }
   ],
   "source": [
    "stats.dropna()"
   ]
  },
  {
   "cell_type": "code",
   "execution_count": 12,
   "id": "518d053d-cc71-480c-a4e4-fa57f25235d8",
   "metadata": {},
   "outputs": [
    {
     "data": {
      "text/html": [
       "<div>\n",
       "<style scoped>\n",
       "    .dataframe tbody tr th:only-of-type {\n",
       "        vertical-align: middle;\n",
       "    }\n",
       "\n",
       "    .dataframe tbody tr th {\n",
       "        vertical-align: top;\n",
       "    }\n",
       "\n",
       "    .dataframe thead th {\n",
       "        text-align: right;\n",
       "    }\n",
       "</style>\n",
       "<table border=\"1\" class=\"dataframe\">\n",
       "  <thead>\n",
       "    <tr style=\"text-align: right;\">\n",
       "      <th></th>\n",
       "      <th>name</th>\n",
       "      <th>league</th>\n",
       "      <th>points</th>\n",
       "      <th>assists</th>\n",
       "      <th>rebounds</th>\n",
       "    </tr>\n",
       "  </thead>\n",
       "  <tbody>\n",
       "    <tr>\n",
       "      <th>0</th>\n",
       "      <td>bob</td>\n",
       "      <td>nba</td>\n",
       "      <td>22.0</td>\n",
       "      <td>5.0</td>\n",
       "      <td>10.0</td>\n",
       "    </tr>\n",
       "    <tr>\n",
       "      <th>3</th>\n",
       "      <td>jackson</td>\n",
       "      <td>aba</td>\n",
       "      <td>9.0</td>\n",
       "      <td>NaN</td>\n",
       "      <td>2.0</td>\n",
       "    </tr>\n",
       "    <tr>\n",
       "      <th>5</th>\n",
       "      <td>steph</td>\n",
       "      <td>nba</td>\n",
       "      <td>49.0</td>\n",
       "      <td>8.0</td>\n",
       "      <td>10.0</td>\n",
       "    </tr>\n",
       "  </tbody>\n",
       "</table>\n",
       "</div>"
      ],
      "text/plain": [
       "      name league  points  assists  rebounds\n",
       "0      bob    nba    22.0      5.0      10.0\n",
       "3  jackson    aba     9.0      NaN       2.0\n",
       "5    steph    nba    49.0      8.0      10.0"
      ]
     },
     "execution_count": 12,
     "metadata": {},
     "output_type": "execute_result"
    }
   ],
   "source": [
    "stats.dropna(subset=[\"league\", \"points\"]) # \"League\", \"points\" /L/2/E NaN 0) O DROP"
   ]
  },
  {
   "cell_type": "code",
   "execution_count": 13,
   "id": "c4972b81-15e7-4d0f-a855-1edf0626ade7",
   "metadata": {},
   "outputs": [
    {
     "data": {
      "text/html": [
       "<div>\n",
       "<style scoped>\n",
       "    .dataframe tbody tr th:only-of-type {\n",
       "        vertical-align: middle;\n",
       "    }\n",
       "\n",
       "    .dataframe tbody tr th {\n",
       "        vertical-align: top;\n",
       "    }\n",
       "\n",
       "    .dataframe thead th {\n",
       "        text-align: right;\n",
       "    }\n",
       "</style>\n",
       "<table border=\"1\" class=\"dataframe\">\n",
       "  <thead>\n",
       "    <tr style=\"text-align: right;\">\n",
       "      <th></th>\n",
       "      <th>name</th>\n",
       "      <th>league</th>\n",
       "      <th>points</th>\n",
       "      <th>assists</th>\n",
       "      <th>rebounds</th>\n",
       "    </tr>\n",
       "  </thead>\n",
       "  <tbody>\n",
       "    <tr>\n",
       "      <th>0</th>\n",
       "      <td>bob</td>\n",
       "      <td>nba</td>\n",
       "      <td>22.0</td>\n",
       "      <td>5.0</td>\n",
       "      <td>10.0</td>\n",
       "    </tr>\n",
       "    <tr>\n",
       "      <th>1</th>\n",
       "      <td>jessie</td>\n",
       "      <td>0</td>\n",
       "      <td>10.0</td>\n",
       "      <td>0.0</td>\n",
       "      <td>2.0</td>\n",
       "    </tr>\n",
       "    <tr>\n",
       "      <th>2</th>\n",
       "      <td>stu</td>\n",
       "      <td>euroleague</td>\n",
       "      <td>0.0</td>\n",
       "      <td>0.0</td>\n",
       "      <td>0.0</td>\n",
       "    </tr>\n",
       "    <tr>\n",
       "      <th>3</th>\n",
       "      <td>jackson</td>\n",
       "      <td>aba</td>\n",
       "      <td>9.0</td>\n",
       "      <td>0.0</td>\n",
       "      <td>2.0</td>\n",
       "    </tr>\n",
       "    <tr>\n",
       "      <th>4</th>\n",
       "      <td>timothee</td>\n",
       "      <td>0</td>\n",
       "      <td>8.0</td>\n",
       "      <td>0.0</td>\n",
       "      <td>0.0</td>\n",
       "    </tr>\n",
       "    <tr>\n",
       "      <th>5</th>\n",
       "      <td>steph</td>\n",
       "      <td>nba</td>\n",
       "      <td>49.0</td>\n",
       "      <td>8.0</td>\n",
       "      <td>10.0</td>\n",
       "    </tr>\n",
       "    <tr>\n",
       "      <th>6</th>\n",
       "      <td>0</td>\n",
       "      <td>0</td>\n",
       "      <td>0.0</td>\n",
       "      <td>0.0</td>\n",
       "      <td>0.0</td>\n",
       "    </tr>\n",
       "  </tbody>\n",
       "</table>\n",
       "</div>"
      ],
      "text/plain": [
       "       name      league  points  assists  rebounds\n",
       "0       bob         nba    22.0      5.0      10.0\n",
       "1    jessie           0    10.0      0.0       2.0\n",
       "2       stu  euroleague     0.0      0.0       0.0\n",
       "3   jackson         aba     9.0      0.0       2.0\n",
       "4  timothee           0     8.0      0.0       0.0\n",
       "5     steph         nba    49.0      8.0      10.0\n",
       "6         0           0     0.0      0.0       0.0"
      ]
     },
     "execution_count": 13,
     "metadata": {},
     "output_type": "execute_result"
    }
   ],
   "source": [
    "stats.fillna(0)"
   ]
  },
  {
   "cell_type": "code",
   "execution_count": 14,
   "id": "32b3424e-2cf0-4192-852a-e85bf1e2fd75",
   "metadata": {},
   "outputs": [
    {
     "name": "stderr",
     "output_type": "stream",
     "text": [
      "C:\\Users\\MSI\\AppData\\Local\\Temp\\ipykernel_20764\\2350857582.py:1: FutureWarning: A value is trying to be set on a copy of a DataFrame or Series through chained assignment using an inplace method.\n",
      "The behavior will change in pandas 3.0. This inplace method will never work because the intermediate object on which we are setting values always behaves as a copy.\n",
      "\n",
      "For example, when doing 'df[col].method(value, inplace=True)', try using 'df.method({col: value}, inplace=True)' or df[col] = df[col].method(value) instead, to perform the operation inplace on the original object.\n",
      "\n",
      "\n",
      "  stats[\"league\"].fillna(\"amateur\", inplace=True)\n"
     ]
    }
   ],
   "source": [
    "stats[\"league\"].fillna(\"amateur\", inplace=True)"
   ]
  },
  {
   "cell_type": "code",
   "execution_count": 15,
   "id": "41bc11d1-e576-4393-befd-f96dd308ecd9",
   "metadata": {},
   "outputs": [
    {
     "data": {
      "text/html": [
       "<div>\n",
       "<style scoped>\n",
       "    .dataframe tbody tr th:only-of-type {\n",
       "        vertical-align: middle;\n",
       "    }\n",
       "\n",
       "    .dataframe tbody tr th {\n",
       "        vertical-align: top;\n",
       "    }\n",
       "\n",
       "    .dataframe thead th {\n",
       "        text-align: right;\n",
       "    }\n",
       "</style>\n",
       "<table border=\"1\" class=\"dataframe\">\n",
       "  <thead>\n",
       "    <tr style=\"text-align: right;\">\n",
       "      <th></th>\n",
       "      <th>name</th>\n",
       "      <th>league</th>\n",
       "      <th>points</th>\n",
       "      <th>assists</th>\n",
       "      <th>rebounds</th>\n",
       "    </tr>\n",
       "  </thead>\n",
       "  <tbody>\n",
       "    <tr>\n",
       "      <th>0</th>\n",
       "      <td>bob</td>\n",
       "      <td>nba</td>\n",
       "      <td>22.0</td>\n",
       "      <td>5.0</td>\n",
       "      <td>10.0</td>\n",
       "    </tr>\n",
       "    <tr>\n",
       "      <th>1</th>\n",
       "      <td>jessie</td>\n",
       "      <td>amateur</td>\n",
       "      <td>10.0</td>\n",
       "      <td>NONE</td>\n",
       "      <td>2.0</td>\n",
       "    </tr>\n",
       "    <tr>\n",
       "      <th>2</th>\n",
       "      <td>stu</td>\n",
       "      <td>euroleague</td>\n",
       "      <td>0.0</td>\n",
       "      <td>NONE</td>\n",
       "      <td>NaN</td>\n",
       "    </tr>\n",
       "    <tr>\n",
       "      <th>3</th>\n",
       "      <td>jackson</td>\n",
       "      <td>aba</td>\n",
       "      <td>9.0</td>\n",
       "      <td>NONE</td>\n",
       "      <td>2.0</td>\n",
       "    </tr>\n",
       "    <tr>\n",
       "      <th>4</th>\n",
       "      <td>timothee</td>\n",
       "      <td>amateur</td>\n",
       "      <td>8.0</td>\n",
       "      <td>NONE</td>\n",
       "      <td>NaN</td>\n",
       "    </tr>\n",
       "    <tr>\n",
       "      <th>5</th>\n",
       "      <td>steph</td>\n",
       "      <td>nba</td>\n",
       "      <td>49.0</td>\n",
       "      <td>8.0</td>\n",
       "      <td>10.0</td>\n",
       "    </tr>\n",
       "    <tr>\n",
       "      <th>6</th>\n",
       "      <td>NaN</td>\n",
       "      <td>amateur</td>\n",
       "      <td>0.0</td>\n",
       "      <td>NONE</td>\n",
       "      <td>NaN</td>\n",
       "    </tr>\n",
       "  </tbody>\n",
       "</table>\n",
       "</div>"
      ],
      "text/plain": [
       "       name      league  points assists  rebounds\n",
       "0       bob         nba    22.0     5.0      10.0\n",
       "1    jessie     amateur    10.0    NONE       2.0\n",
       "2       stu  euroleague     0.0    NONE       NaN\n",
       "3   jackson         aba     9.0    NONE       2.0\n",
       "4  timothee     amateur     8.0    NONE       NaN\n",
       "5     steph         nba    49.0     8.0      10.0\n",
       "6       NaN     amateur     0.0    NONE       NaN"
      ]
     },
     "execution_count": 15,
     "metadata": {},
     "output_type": "execute_result"
    }
   ],
   "source": [
    "stats.fillna({\"points\": 0, \"assists\": \"NONE\"})"
   ]
  },
  {
   "cell_type": "code",
   "execution_count": 16,
   "id": "f3f820d1-d7f8-4f4b-b00c-05216729d377",
   "metadata": {},
   "outputs": [],
   "source": [
    "ufos = pd.read_csv(\"data/nuforc_reports.csv\")"
   ]
  },
  {
   "cell_type": "code",
   "execution_count": 18,
   "id": "1960970e-cb24-477e-9549-3be4fa504098",
   "metadata": {},
   "outputs": [],
   "source": [
    "ufos[\"date_time\"] = pd.to_datetime(ufos[\"date_time\"])"
   ]
  },
  {
   "cell_type": "code",
   "execution_count": 20,
   "id": "0791b51e-4e54-4931-8a8f-88c47c4266f7",
   "metadata": {},
   "outputs": [],
   "source": [
    "ufos = pd.read_csv(\"data/nuforc_reports.csv\", parse_dates=[\"date_time\"])"
   ]
  },
  {
   "cell_type": "code",
   "execution_count": 21,
   "id": "15c426d5-1ece-4d63-97d4-46d2e793f7cd",
   "metadata": {},
   "outputs": [
    {
     "name": "stdout",
     "output_type": "stream",
     "text": [
      "<class 'pandas.core.frame.DataFrame'>\n",
      "RangeIndex: 88125 entries, 0 to 88124\n",
      "Data columns (total 12 columns):\n",
      " #   Column          Non-Null Count  Dtype         \n",
      "---  ------          --------------  -----         \n",
      " 0   summary         88095 non-null  object        \n",
      " 1   city            87888 non-null  object        \n",
      " 2   state           82890 non-null  object        \n",
      " 3   date_time       86938 non-null  datetime64[ns]\n",
      " 4   shape           85627 non-null  object        \n",
      " 5   duration        84951 non-null  object        \n",
      " 6   stats           88088 non-null  object        \n",
      " 7   report_link     88125 non-null  object        \n",
      " 8   text            88070 non-null  object        \n",
      " 9   posted          86938 non-null  object        \n",
      " 10  city_latitude   72013 non-null  float64       \n",
      " 11  city_longitude  72013 non-null  float64       \n",
      "dtypes: datetime64[ns](1), float64(2), object(9)\n",
      "memory usage: 8.1+ MB\n"
     ]
    }
   ],
   "source": [
    "ufos.info()"
   ]
  },
  {
   "cell_type": "code",
   "execution_count": 31,
   "id": "ef88f970-56b5-4e48-b0a6-9428a9e0cc36",
   "metadata": {},
   "outputs": [
    {
     "data": {
      "text/plain": [
       "date_time\n",
       "2014.0    8704\n",
       "2012.0    8124\n",
       "2013.0    7823\n",
       "2015.0    6915\n",
       "2019.0    5767\n",
       "2016.0    5664\n",
       "2011.0    5630\n",
       "2008.0    5307\n",
       "2017.0    5057\n",
       "2009.0    4996\n",
       "2010.0    4786\n",
       "2007.0    4736\n",
       "2006.0    3720\n",
       "2018.0    3273\n",
       "2005.0     566\n",
       "2004.0     340\n",
       "1997.0     300\n",
       "2001.0     263\n",
       "2000.0     243\n",
       "2003.0     238\n",
       "1998.0     229\n",
       "1999.0     220\n",
       "2002.0     220\n",
       "1995.0     219\n",
       "1996.0     200\n",
       "1994.0     197\n",
       "1978.0     195\n",
       "1975.0     180\n",
       "1977.0     169\n",
       "1976.0     164\n",
       "1993.0     148\n",
       "1979.0     148\n",
       "1974.0     148\n",
       "1988.0     147\n",
       "1973.0     138\n",
       "1985.0     133\n",
       "1990.0     132\n",
       "1980.0     131\n",
       "1989.0     131\n",
       "1992.0     130\n",
       "1987.0     124\n",
       "1991.0     119\n",
       "1986.0     111\n",
       "1983.0     109\n",
       "1981.0     106\n",
       "1970.0     100\n",
       "1969.0      97\n",
       "1982.0      97\n",
       "1972.0      92\n",
       "1984.0      84\n",
       "1971.0      68\n",
       "Name: count, dtype: int64"
      ]
     },
     "execution_count": 31,
     "metadata": {},
     "output_type": "execute_result"
    }
   ],
   "source": [
    "ufos[\"date_time\"].dt.year.value_counts()"
   ]
  },
  {
   "cell_type": "code",
   "execution_count": 29,
   "id": "5432cd23-609f-4829-94f2-bfa090c45403",
   "metadata": {},
   "outputs": [
    {
     "data": {
      "text/plain": [
       "<Axes: xlabel='date_time'>"
      ]
     },
     "execution_count": 29,
     "metadata": {},
     "output_type": "execute_result"
    },
    {
     "data": {
      "image/png": "[encoded data removed]",
      "text/plain": [
       "<Figure size 640x480 with 1 Axes>"
      ]
     },
     "metadata": {},
     "output_type": "display_data"
    }
   ],
   "source": [
    "ufos[\"date_time\"].dt.year.value_counts().head(10).plot(kind=\"bar\")"
   ]
  },
  {
   "cell_type": "code",
   "execution_count": 32,
   "id": "d750c844-9cdf-4ccb-a1fd-5bc54e365236",
   "metadata": {},
   "outputs": [
    {
     "data": {
      "text/plain": [
       "date_time\n",
       "7.0     10682\n",
       "8.0      8997\n",
       "9.0      8498\n",
       "10.0     8371\n",
       "6.0      8357\n",
       "11.0     7596\n",
       "12.0     6525\n",
       "5.0      6063\n",
       "1.0      5979\n",
       "4.0      5817\n",
       "3.0      5494\n",
       "2.0      4559\n",
       "Name: count, dtype: int64"
      ]
     },
     "execution_count": 32,
     "metadata": {},
     "output_type": "execute_result"
    }
   ],
   "source": [
    "ufos[\"date_time\"].dt.month.value_counts()"
   ]
  },
  {
   "cell_type": "code",
   "execution_count": 33,
   "id": "287d8aec-da85-43e8-adb3-b332adcd57dd",
   "metadata": {},
   "outputs": [
    {
     "data": {
      "text/plain": [
       "date_time\n",
       "21.0    12851\n",
       "22.0    11660\n",
       "20.0     9565\n",
       "23.0     8194\n",
       "19.0     6460\n",
       "0.0      5577\n",
       "18.0     4462\n",
       "1.0      3285\n",
       "17.0     2660\n",
       "2.0      2216\n",
       "3.0      2088\n",
       "5.0      1874\n",
       "4.0      1641\n",
       "16.0     1612\n",
       "6.0      1588\n",
       "12.0     1408\n",
       "15.0     1380\n",
       "10.0     1334\n",
       "13.0     1308\n",
       "11.0     1301\n",
       "14.0     1280\n",
       "9.0      1126\n",
       "7.0      1067\n",
       "8.0      1001\n",
       "Name: count, dtype: int64"
      ]
     },
     "execution_count": 33,
     "metadata": {},
     "output_type": "execute_result"
    }
   ],
   "source": [
    "ufos[\"date_time\"].dt.hour.value_counts()"
   ]
  },
  {
   "cell_type": "code",
   "execution_count": 34,
   "id": "ff4c9804-d26c-459a-bb4e-8a36b02cc54c",
   "metadata": {},
   "outputs": [
    {
     "data": {
      "text/plain": [
       "date_time\n",
       "5.0    16305\n",
       "4.0    12864\n",
       "6.0    12652\n",
       "3.0    11729\n",
       "2.0    11646\n",
       "1.0    10987\n",
       "0.0    10755\n",
       "Name: count, dtype: int64"
      ]
     },
     "execution_count": 34,
     "metadata": {},
     "output_type": "execute_result"
    }
   ],
   "source": [
    "ufos[\"date_time\"].dt.dayofweek.value_counts()"
   ]
  },
  {
   "cell_type": "code",
   "execution_count": 37,
   "id": "17e95205-22b2-4ea4-b9e1-d97ed28e2eb4",
   "metadata": {},
   "outputs": [
    {
     "data": {
      "text/html": [
       "<div>\n",
       "<style scoped>\n",
       "    .dataframe tbody tr th:only-of-type {\n",
       "        vertical-align: middle;\n",
       "    }\n",
       "\n",
       "    .dataframe tbody tr th {\n",
       "        vertical-align: top;\n",
       "    }\n",
       "\n",
       "    .dataframe thead th {\n",
       "        text-align: right;\n",
       "    }\n",
       "</style>\n",
       "<table border=\"1\" class=\"dataframe\">\n",
       "  <thead>\n",
       "    <tr style=\"text-align: right;\">\n",
       "      <th></th>\n",
       "      <th>summary</th>\n",
       "      <th>city</th>\n",
       "      <th>state</th>\n",
       "      <th>date_time</th>\n",
       "      <th>shape</th>\n",
       "      <th>duration</th>\n",
       "      <th>stats</th>\n",
       "      <th>report_link</th>\n",
       "      <th>text</th>\n",
       "      <th>posted</th>\n",
       "      <th>city_latitude</th>\n",
       "      <th>city_longitude</th>\n",
       "      <th>year</th>\n",
       "    </tr>\n",
       "  </thead>\n",
       "  <tbody>\n",
       "    <tr>\n",
       "      <th>85714</th>\n",
       "      <td>7-8 elongated objects flying in straight line ...</td>\n",
       "      <td>Wilmington</td>\n",
       "      <td>NC</td>\n",
       "      <td>2019-12-29 20:40:00</td>\n",
       "      <td>cigar</td>\n",
       "      <td>10 seconds</td>\n",
       "      <td>Occurred : 11/29/2019 20:40  (Entered as : 12/...</td>\n",
       "      <td>http://www.nuforc.org/webreports/151/S151158.html</td>\n",
       "      <td>7-8 elongated objects flying in straight line ...</td>\n",
       "      <td>2019-12-01T00:00:00</td>\n",
       "      <td>34.238375</td>\n",
       "      <td>-77.878468</td>\n",
       "      <td>2019.0</td>\n",
       "    </tr>\n",
       "  </tbody>\n",
       "</table>\n",
       "</div>"
      ],
      "text/plain": [
       "                                                 summary        city state  \\\n",
       "85714  7-8 elongated objects flying in straight line ...  Wilmington    NC   \n",
       "\n",
       "                date_time  shape    duration  \\\n",
       "85714 2019-12-29 20:40:00  cigar  10 seconds   \n",
       "\n",
       "                                                   stats  \\\n",
       "85714  Occurred : 11/29/2019 20:40  (Entered as : 12/...   \n",
       "\n",
       "                                             report_link  \\\n",
       "85714  http://www.nuforc.org/webreports/151/S151158.html   \n",
       "\n",
       "                                                    text               posted  \\\n",
       "85714  7-8 elongated objects flying in straight line ...  2019-12-01T00:00:00   \n",
       "\n",
       "       city_latitude  city_longitude    year  \n",
       "85714      34.238375      -77.878468  2019.0  "
      ]
     },
     "execution_count": 37,
     "metadata": {},
     "output_type": "execute_result"
    }
   ],
   "source": [
    "# 2019년 12월 23일 이후의 테이터만 출력하세요\n",
    "ufos[ufos[\"date_time\"] > \"2019-12-23\"]"
   ]
  },
  {
   "cell_type": "code",
   "execution_count": 38,
   "id": "7833d73b-0a7e-4b7a-af20-7e77dd6b0efd",
   "metadata": {},
   "outputs": [
    {
     "data": {
      "text/html": [
       "<div>\n",
       "<style scoped>\n",
       "    .dataframe tbody tr th:only-of-type {\n",
       "        vertical-align: middle;\n",
       "    }\n",
       "\n",
       "    .dataframe tbody tr th {\n",
       "        vertical-align: top;\n",
       "    }\n",
       "\n",
       "    .dataframe thead th {\n",
       "        text-align: right;\n",
       "    }\n",
       "</style>\n",
       "<table border=\"1\" class=\"dataframe\">\n",
       "  <thead>\n",
       "    <tr style=\"text-align: right;\">\n",
       "      <th></th>\n",
       "      <th>summary</th>\n",
       "      <th>city</th>\n",
       "      <th>state</th>\n",
       "      <th>date_time</th>\n",
       "      <th>shape</th>\n",
       "      <th>duration</th>\n",
       "      <th>stats</th>\n",
       "      <th>report_link</th>\n",
       "      <th>text</th>\n",
       "      <th>posted</th>\n",
       "      <th>city_latitude</th>\n",
       "      <th>city_longitude</th>\n",
       "      <th>year</th>\n",
       "    </tr>\n",
       "  </thead>\n",
       "  <tbody>\n",
       "    <tr>\n",
       "      <th>1913</th>\n",
       "      <td>Were looking up at the stars and a string of w...</td>\n",
       "      <td>Fort Yates</td>\n",
       "      <td>ND</td>\n",
       "      <td>2019-05-24 00:00:00</td>\n",
       "      <td>unknown</td>\n",
       "      <td>3 minutes</td>\n",
       "      <td>Occurred : 5/24/2019 00:00  (Entered as : 05/2...</td>\n",
       "      <td>http://www.nuforc.org/webreports/146/S146348.html</td>\n",
       "      <td>We were sitting outside looking up at the star...</td>\n",
       "      <td>2019-06-07T00:00:00</td>\n",
       "      <td>46.103500</td>\n",
       "      <td>-100.702900</td>\n",
       "      <td>2019.0</td>\n",
       "    </tr>\n",
       "    <tr>\n",
       "      <th>1914</th>\n",
       "      <td>May 24th at approximately 0002 hours I witness...</td>\n",
       "      <td>Wilsonville</td>\n",
       "      <td>OR</td>\n",
       "      <td>2019-05-24 00:02:00</td>\n",
       "      <td>formation</td>\n",
       "      <td>2 minutes</td>\n",
       "      <td>Occurred : 5/24/2019 00:02  (Entered as : 05/2...</td>\n",
       "      <td>http://www.nuforc.org/webreports/146/S146271.html</td>\n",
       "      <td>May 24th, at approximately 0002 hours, I witne...</td>\n",
       "      <td>2019-06-07T00:00:00</td>\n",
       "      <td>45.308400</td>\n",
       "      <td>-122.779900</td>\n",
       "      <td>2019.0</td>\n",
       "    </tr>\n",
       "    <tr>\n",
       "      <th>1915</th>\n",
       "      <td>30 white orbs.  ((NUFORC Note:  Satellites fro...</td>\n",
       "      <td>Mitchell</td>\n",
       "      <td>SD</td>\n",
       "      <td>2019-05-24 00:05:00</td>\n",
       "      <td>formation</td>\n",
       "      <td>1 minute</td>\n",
       "      <td>Occurred : 5/24/2019 00:05  (Entered as : 05/2...</td>\n",
       "      <td>http://www.nuforc.org/webreports/146/S146355.html</td>\n",
       "      <td>30 white orbs. On the Evening of May 24th, 201...</td>\n",
       "      <td>2019-06-07T00:00:00</td>\n",
       "      <td>43.718300</td>\n",
       "      <td>-98.026200</td>\n",
       "      <td>2019.0</td>\n",
       "    </tr>\n",
       "    <tr>\n",
       "      <th>1916</th>\n",
       "      <td>seen a rip in the night sky.it looks like a br...</td>\n",
       "      <td>Hazel green</td>\n",
       "      <td>AL</td>\n",
       "      <td>2019-05-24 00:14:00</td>\n",
       "      <td>light</td>\n",
       "      <td>2 minutes</td>\n",
       "      <td>Occurred : 5/24/2019 00:14  (Entered as : 05/2...</td>\n",
       "      <td>http://www.nuforc.org/webreports/146/S146455.html</td>\n",
       "      <td>seen a rip in the night sky.it looks like a bi...</td>\n",
       "      <td>2019-06-07T00:00:00</td>\n",
       "      <td>34.934100</td>\n",
       "      <td>-86.580300</td>\n",
       "      <td>2019.0</td>\n",
       "    </tr>\n",
       "    <tr>\n",
       "      <th>1917</th>\n",
       "      <td>It was somewhat a slow moving blurry light obj...</td>\n",
       "      <td>Staunton</td>\n",
       "      <td>VA</td>\n",
       "      <td>2019-05-24 00:16:00</td>\n",
       "      <td>chevron</td>\n",
       "      <td>1+ minutes</td>\n",
       "      <td>Occurred : 5/24/2019 00:16  (Entered as : 5/24...</td>\n",
       "      <td>http://www.nuforc.org/webreports/146/S146265.html</td>\n",
       "      <td>This is what I saw.  At west side Staunton cit...</td>\n",
       "      <td>2019-06-07T00:00:00</td>\n",
       "      <td>38.137038</td>\n",
       "      <td>-79.063041</td>\n",
       "      <td>2019.0</td>\n",
       "    </tr>\n",
       "    <tr>\n",
       "      <th>...</th>\n",
       "      <td>...</td>\n",
       "      <td>...</td>\n",
       "      <td>...</td>\n",
       "      <td>...</td>\n",
       "      <td>...</td>\n",
       "      <td>...</td>\n",
       "      <td>...</td>\n",
       "      <td>...</td>\n",
       "      <td>...</td>\n",
       "      <td>...</td>\n",
       "      <td>...</td>\n",
       "      <td>...</td>\n",
       "      <td>...</td>\n",
       "    </tr>\n",
       "    <tr>\n",
       "      <th>2521</th>\n",
       "      <td>Intense Bright Flashes for Four Hours...</td>\n",
       "      <td>Hulett</td>\n",
       "      <td>WY</td>\n",
       "      <td>2019-05-26 00:00:00</td>\n",
       "      <td>light</td>\n",
       "      <td>4 hours</td>\n",
       "      <td>Occurred : 5/26/2019 00:00  (Entered as : 0526...</td>\n",
       "      <td>http://www.nuforc.org/webreports/146/S146274.html</td>\n",
       "      <td>Intense Bright Flashes for Four Hours... I wok...</td>\n",
       "      <td>2019-06-07T00:00:00</td>\n",
       "      <td>44.744400</td>\n",
       "      <td>-104.680400</td>\n",
       "      <td>2019.0</td>\n",
       "    </tr>\n",
       "    <tr>\n",
       "      <th>2581</th>\n",
       "      <td>We were outside, 11:54pm, saw 4 lights moving ...</td>\n",
       "      <td>Ocean Shores</td>\n",
       "      <td>WA</td>\n",
       "      <td>2019-05-26 00:00:00</td>\n",
       "      <td>light</td>\n",
       "      <td>4 to 5 min</td>\n",
       "      <td>Occurred : 5/26/2019 00:00  (Entered as : May ...</td>\n",
       "      <td>http://www.nuforc.org/webreports/146/S146440.html</td>\n",
       "      <td>We were outside, 11:54pm, saw 4 lights moving ...</td>\n",
       "      <td>2019-06-07T00:00:00</td>\n",
       "      <td>46.972000</td>\n",
       "      <td>-124.143200</td>\n",
       "      <td>2019.0</td>\n",
       "    </tr>\n",
       "    <tr>\n",
       "      <th>2582</th>\n",
       "      <td>Reported seeing a triangle of lights, moving a...</td>\n",
       "      <td>Manitowish waters</td>\n",
       "      <td>WI</td>\n",
       "      <td>2019-05-26 00:00:00</td>\n",
       "      <td>triangle</td>\n",
       "      <td>15 minutes</td>\n",
       "      <td>Occurred : 5/26/2019 00:00  (Entered as : 05/2...</td>\n",
       "      <td>http://www.nuforc.org/webreports/146/S146448.html</td>\n",
       "      <td>I did not see it but my friend and his son in ...</td>\n",
       "      <td>2019-06-07T00:00:00</td>\n",
       "      <td>NaN</td>\n",
       "      <td>NaN</td>\n",
       "      <td>2019.0</td>\n",
       "    </tr>\n",
       "    <tr>\n",
       "      <th>2583</th>\n",
       "      <td>Formation of lights grows larger and passes ab...</td>\n",
       "      <td>Grants</td>\n",
       "      <td>AL</td>\n",
       "      <td>2019-05-26 00:00:00</td>\n",
       "      <td>formation</td>\n",
       "      <td>5 minutes</td>\n",
       "      <td>Occurred : 5/26/2019 00:00  (Entered as : 05/2...</td>\n",
       "      <td>http://www.nuforc.org/webreports/146/S146489.html</td>\n",
       "      <td>Formation of lights grows larger and passes ab...</td>\n",
       "      <td>2019-06-07T00:00:00</td>\n",
       "      <td>NaN</td>\n",
       "      <td>NaN</td>\n",
       "      <td>2019.0</td>\n",
       "    </tr>\n",
       "    <tr>\n",
       "      <th>2584</th>\n",
       "      <td>Huge 3 light UFO in night sky,  5/26/19.  ((an...</td>\n",
       "      <td>East Troy</td>\n",
       "      <td>WI</td>\n",
       "      <td>2019-05-26 00:00:00</td>\n",
       "      <td>disk</td>\n",
       "      <td>1 minute</td>\n",
       "      <td>Occurred : 5/26/2019 00:00  (Entered as : 05/2...</td>\n",
       "      <td>http://www.nuforc.org/webreports/146/S146443.html</td>\n",
       "      <td>Huge 3 light UFO in night sky,  5/26/19. Star ...</td>\n",
       "      <td>2019-06-07T00:00:00</td>\n",
       "      <td>42.794500</td>\n",
       "      <td>-88.399400</td>\n",
       "      <td>2019.0</td>\n",
       "    </tr>\n",
       "  </tbody>\n",
       "</table>\n",
       "<p>134 rows × 13 columns</p>\n",
       "</div>"
      ],
      "text/plain": [
       "                                                summary               city  \\\n",
       "1913  Were looking up at the stars and a string of w...         Fort Yates   \n",
       "1914  May 24th at approximately 0002 hours I witness...        Wilsonville   \n",
       "1915  30 white orbs.  ((NUFORC Note:  Satellites fro...           Mitchell   \n",
       "1916  seen a rip in the night sky.it looks like a br...        Hazel green   \n",
       "1917  It was somewhat a slow moving blurry light obj...           Staunton   \n",
       "...                                                 ...                ...   \n",
       "2521           Intense Bright Flashes for Four Hours...             Hulett   \n",
       "2581  We were outside, 11:54pm, saw 4 lights moving ...       Ocean Shores   \n",
       "2582  Reported seeing a triangle of lights, moving a...  Manitowish waters   \n",
       "2583  Formation of lights grows larger and passes ab...             Grants   \n",
       "2584  Huge 3 light UFO in night sky,  5/26/19.  ((an...          East Troy   \n",
       "\n",
       "     state           date_time      shape    duration  \\\n",
       "1913    ND 2019-05-24 00:00:00    unknown   3 minutes   \n",
       "1914    OR 2019-05-24 00:02:00  formation   2 minutes   \n",
       "1915    SD 2019-05-24 00:05:00  formation    1 minute   \n",
       "1916    AL 2019-05-24 00:14:00      light   2 minutes   \n",
       "1917    VA 2019-05-24 00:16:00    chevron  1+ minutes   \n",
       "...    ...                 ...        ...         ...   \n",
       "2521    WY 2019-05-26 00:00:00      light     4 hours   \n",
       "2581    WA 2019-05-26 00:00:00      light  4 to 5 min   \n",
       "2582    WI 2019-05-26 00:00:00   triangle  15 minutes   \n",
       "2583    AL 2019-05-26 00:00:00  formation   5 minutes   \n",
       "2584    WI 2019-05-26 00:00:00       disk    1 minute   \n",
       "\n",
       "                                                  stats  \\\n",
       "1913  Occurred : 5/24/2019 00:00  (Entered as : 05/2...   \n",
       "1914  Occurred : 5/24/2019 00:02  (Entered as : 05/2...   \n",
       "1915  Occurred : 5/24/2019 00:05  (Entered as : 05/2...   \n",
       "1916  Occurred : 5/24/2019 00:14  (Entered as : 05/2...   \n",
       "1917  Occurred : 5/24/2019 00:16  (Entered as : 5/24...   \n",
       "...                                                 ...   \n",
       "2521  Occurred : 5/26/2019 00:00  (Entered as : 0526...   \n",
       "2581  Occurred : 5/26/2019 00:00  (Entered as : May ...   \n",
       "2582  Occurred : 5/26/2019 00:00  (Entered as : 05/2...   \n",
       "2583  Occurred : 5/26/2019 00:00  (Entered as : 05/2...   \n",
       "2584  Occurred : 5/26/2019 00:00  (Entered as : 05/2...   \n",
       "\n",
       "                                            report_link  \\\n",
       "1913  http://www.nuforc.org/webreports/146/S146348.html   \n",
       "1914  http://www.nuforc.org/webreports/146/S146271.html   \n",
       "1915  http://www.nuforc.org/webreports/146/S146355.html   \n",
       "1916  http://www.nuforc.org/webreports/146/S146455.html   \n",
       "1917  http://www.nuforc.org/webreports/146/S146265.html   \n",
       "...                                                 ...   \n",
       "2521  http://www.nuforc.org/webreports/146/S146274.html   \n",
       "2581  http://www.nuforc.org/webreports/146/S146440.html   \n",
       "2582  http://www.nuforc.org/webreports/146/S146448.html   \n",
       "2583  http://www.nuforc.org/webreports/146/S146489.html   \n",
       "2584  http://www.nuforc.org/webreports/146/S146443.html   \n",
       "\n",
       "                                                   text               posted  \\\n",
       "1913  We were sitting outside looking up at the star...  2019-06-07T00:00:00   \n",
       "1914  May 24th, at approximately 0002 hours, I witne...  2019-06-07T00:00:00   \n",
       "1915  30 white orbs. On the Evening of May 24th, 201...  2019-06-07T00:00:00   \n",
       "1916  seen a rip in the night sky.it looks like a bi...  2019-06-07T00:00:00   \n",
       "1917  This is what I saw.  At west side Staunton cit...  2019-06-07T00:00:00   \n",
       "...                                                 ...                  ...   \n",
       "2521  Intense Bright Flashes for Four Hours... I wok...  2019-06-07T00:00:00   \n",
       "2581  We were outside, 11:54pm, saw 4 lights moving ...  2019-06-07T00:00:00   \n",
       "2582  I did not see it but my friend and his son in ...  2019-06-07T00:00:00   \n",
       "2583  Formation of lights grows larger and passes ab...  2019-06-07T00:00:00   \n",
       "2584  Huge 3 light UFO in night sky,  5/26/19. Star ...  2019-06-07T00:00:00   \n",
       "\n",
       "      city_latitude  city_longitude    year  \n",
       "1913      46.103500     -100.702900  2019.0  \n",
       "1914      45.308400     -122.779900  2019.0  \n",
       "1915      43.718300      -98.026200  2019.0  \n",
       "1916      34.934100      -86.580300  2019.0  \n",
       "1917      38.137038      -79.063041  2019.0  \n",
       "...             ...             ...     ...  \n",
       "2521      44.744400     -104.680400  2019.0  \n",
       "2581      46.972000     -124.143200  2019.0  \n",
       "2582            NaN             NaN  2019.0  \n",
       "2583            NaN             NaN  2019.0  \n",
       "2584      42.794500      -88.399400  2019.0  \n",
       "\n",
       "[134 rows x 13 columns]"
      ]
     },
     "execution_count": 38,
     "metadata": {},
     "output_type": "execute_result"
    }
   ],
   "source": [
    "# 2019년 5월 24일해서 2019년 5월 26월 사이의 페이터를 출력하세요.\n",
    "ufos[ufos[\"date_time\"].between(\"2019-05-24\", \"2019-05-26\")]"
   ]
  },
  {
   "cell_type": "code",
   "execution_count": 39,
   "id": "9a59e8e4-6a81-45bd-be0c-c1e6dd32421e",
   "metadata": {},
   "outputs": [],
   "source": [
    "# 지연시간을 계산해서 \"time_before_reported\"걸럼에 넣으세요\n",
    "charts = pd.read_csv(\"data/billboard_charts.csv\", parse_dates=[\"date\"])"
   ]
  },
  {
   "cell_type": "code",
   "execution_count": 40,
   "id": "2965d8d1-19aa-4be4-b0c5-8d34a609ca8e",
   "metadata": {},
   "outputs": [
    {
     "name": "stdout",
     "output_type": "stream",
     "text": [
      "<class 'pandas.core.frame.DataFrame'>\n",
      "RangeIndex: 330087 entries, 0 to 330086\n",
      "Data columns (total 7 columns):\n",
      " #   Column          Non-Null Count   Dtype         \n",
      "---  ------          --------------   -----         \n",
      " 0   date            330087 non-null  datetime64[ns]\n",
      " 1   rank            330087 non-null  int64         \n",
      " 2   song            330087 non-null  object        \n",
      " 3   artist          330087 non-null  object        \n",
      " 4   last-week       297775 non-null  float64       \n",
      " 5   peak-rank       330087 non-null  int64         \n",
      " 6   weeks-on-board  330087 non-null  int64         \n",
      "dtypes: datetime64[ns](1), float64(1), int64(3), object(2)\n",
      "memory usage: 17.6+ MB\n"
     ]
    }
   ],
   "source": [
    "charts.info()"
   ]
  },
  {
   "cell_type": "code",
   "execution_count": 48,
   "id": "0206deab-f3bb-4518-b5d3-d6c854a8b56e",
   "metadata": {},
   "outputs": [
    {
     "data": {
      "text/plain": [
       "<Axes: xlabel='artist'>"
      ]
     },
     "execution_count": 48,
     "metadata": {},
     "output_type": "execute_result"
    },
    {
     "data": {
      "image/png": "[encoded data removed]",
      "text/plain": [
       "<Figure size 640x480 with 1 Axes>"
      ]
     },
     "metadata": {},
     "output_type": "display_data"
    }
   ],
   "source": [
    "# 빌보드에 가장 많은 곡이 올라간 아터스드 top 10을 보여주세요\n",
    "# charts.value_counts(\"artist\")\n",
    "charts[\"artist\"].value_counts().head(10).plot(kind=\"bar\")"
   ]
  },
  {
   "cell_type": "code",
   "execution_count": 49,
   "id": "abb87175-3557-458a-abde-d00eb37222ca",
   "metadata": {},
   "outputs": [
    {
     "data": {
      "text/plain": [
       "<Axes: xlabel='artist'>"
      ]
     },
     "execution_count": 49,
     "metadata": {},
     "output_type": "execute_result"
    },
    {
     "data": {
      "image/png": "[encoded data removed]",
      "text/plain": [
       "<Figure size 640x480 with 1 Axes>"
      ]
     },
     "metadata": {},
     "output_type": "display_data"
    }
   ],
   "source": [
    "# Billboard 차트 1위를 가장 많이 차지한 아티스트 Top 10을 보여주세요\n",
    "charts[charts[\"rank\"] == 1].value_counts(\"artist\").head(10).plot(kind=\"bar\")"
   ]
  },
  {
   "cell_type": "code",
   "execution_count": 51,
   "id": "a12a7845-0175-4441-aa78-bb49837cd4d9",
   "metadata": {},
   "outputs": [
    {
     "data": {
      "text/plain": [
       "song\n",
       "Old Town Road      19\n",
       "One Sweet Day      16\n",
       "Despacito          16\n",
       "Rockstar           15\n",
       "I Gotta Feeling    14\n",
       "Name: count, dtype: int64"
      ]
     },
     "execution_count": 51,
     "metadata": {},
     "output_type": "execute_result"
    }
   ],
   "source": [
    "charts[charts[\"rank\"] == 1].value_counts(\"song\").head(5)"
   ]
  },
  {
   "cell_type": "code",
   "execution_count": 68,
   "id": "ab1f589d-13a6-4b66-a985-ea27538af6b0",
   "metadata": {},
   "outputs": [
    {
     "data": {
      "image/png": "[encoded data removed]",
      "text/plain": [
       "<Figure size 640x480 with 1 Axes>"
      ]
     },
     "metadata": {},
     "output_type": "display_data"
    }
   ],
   "source": [
    "import matplotlib.pyplot as plt\n",
    "import matplotlib.font_manager as fm\n",
    "\n",
    "plt.rcParams['font.family'] = 'Malgun Gothic'\n",
    "plt.rcParams['axes.unicode_minus'] = False\n",
    "# OLd Town Road의 차트 순위를 시간에 파라 보여주세요.\n",
    "p = charts[charts[\"song\"] == \"Old Town Road\"].set_index(\"date\")[\"rank\"].plot()\n",
    "p.invert_yaxis()"
   ]
  }
 ],
 "metadata": {
  "kernelspec": {
   "display_name": "Python 3 (ipykernel)",
   "language": "python",
   "name": "python3"
  },
  "language_info": {
   "codemirror_mode": {
    "name": "ipython",
    "version": 3
   },
   "file_extension": ".py",
   "mimetype": "text/x-python",
   "name": "python",
   "nbconvert_exporter": "python",
   "pygments_lexer": "ipython3",
   "version": "3.13.2"
  }
 },
 "nbformat": 4,
 "nbformat_minor": 5
}
